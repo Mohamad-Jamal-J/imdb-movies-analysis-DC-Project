{
 "cells": [
  {
   "cell_type": "markdown",
   "id": "bbcba1377d06a6d9",
   "metadata": {
    "collapsed": false,
    "jp-MarkdownHeadingCollapsed": true,
    "jupyter": {
     "outputs_hidden": false
    }
   },
   "source": [
    "## Lights, Camera, Data! Exploring The IMDb Movie Datasets\n",
    "\n",
    "![IMDb Logo](IMDB.png)\n",
    "\n",
    "## The Data\n",
    "\n",
    "The two datasets:\n",
    "\n",
    "### **imdb.csv**\n",
    "| Column         | Description                            |\n",
    "|----------------|----------------------------------------|\n",
    "| `id`           | Unique ID of the movie                 |\n",
    "| `Poster_Link`  | Poster Link of Movie                   |\n",
    "| `Certificate`  | Certificate of the Movie               |\n",
    "| `IMDB_Rating`  | IMBD Rating of the Movie               |\n",
    "| `Meta_score`   | Metascore earned by the Movie          |\n",
    "| `Star1`        | First Star Cast                        |\n",
    "| `Star2`        | Second Star Cast                       |\n",
    "| `Star3`        | Third Star Cast                        |\n",
    "| `Star4`        | Fourth Star Cast                       |\n",
    "| `No_of_Votes`  | Number of Votes                        |\n",
    "| `Gross`        | Gross earnings of the Movie            |\n",
    "\n",
    "### **movies.csv**\n",
    "| Column          | Description                           |\n",
    "|-----------------|---------------------------------------|\n",
    "| `id`            | Unique ID of the movie                |\n",
    "| `Series_Title`  | Name of the Movie                     |\n",
    "| `Released_Year` | Released Year of the Movie            |\n",
    "| `Runtime`       | Total Runtime of the Movie            |\n",
    "| `Genre`         | Genre of the Movie                    |\n",
    "| `Overview`      | Overview of the Movie                 |\n",
    "| `Director`      | Name of the Director                  |\n"
   ]
  },
  {
   "cell_type": "markdown",
   "id": "a493ab5404b80384",
   "metadata": {
    "collapsed": false,
    "jupyter": {
     "outputs_hidden": false
    }
   },
   "source": [
    "## Step 0: Importing the Libraries"
   ]
  },
  {
   "cell_type": "code",
   "execution_count": 2,
   "id": "5fa4026f3d235b8c",
   "metadata": {
    "ExecuteTime": {
     "end_time": "2024-06-26T20:21:52.507463100Z",
     "start_time": "2024-06-26T20:21:52.032181800Z"
    },
    "collapsed": false,
    "jupyter": {
     "outputs_hidden": false
    }
   },
   "outputs": [],
   "source": [
    "import numpy as np\n",
    "import pandas as pd\n",
    "import matplotlib.pyplot as plt\n",
    "import seaborn as sns\n"
   ]
  },
  {
   "cell_type": "markdown",
   "id": "20af21d6200bebb8",
   "metadata": {
    "collapsed": false,
    "jupyter": {
     "outputs_hidden": false
    }
   },
   "source": [
    "## Step 1: Loading the Data"
   ]
  },
  {
   "cell_type": "markdown",
   "id": "c6c72edd983bbce6",
   "metadata": {
    "collapsed": false,
    "jupyter": {
     "outputs_hidden": false
    }
   },
   "source": [
    "### Task 1.1: Loading the IMDb Dataset"
   ]
  },
  {
   "cell_type": "code",
   "execution_count": 3,
   "id": "473e361421719d00",
   "metadata": {
    "ExecuteTime": {
     "end_time": "2024-06-26T20:21:52.762505200Z",
     "start_time": "2024-06-26T20:21:52.045614800Z"
    },
    "collapsed": false,
    "jupyter": {
     "outputs_hidden": false
    }
   },
   "outputs": [],
   "source": [
    "imdb = pd.read_csv('imbd.csv')"
   ]
  },
  {
   "cell_type": "markdown",
   "id": "e84468ad3cfce863",
   "metadata": {
    "collapsed": false,
    "jupyter": {
     "outputs_hidden": false
    }
   },
   "source": [
    "### Task 1.2: Loading the Movies Dataset"
   ]
  },
  {
   "cell_type": "code",
   "execution_count": 4,
   "id": "2c0a4caea201b0ff",
   "metadata": {
    "ExecuteTime": {
     "end_time": "2024-06-26T20:21:52.762505200Z",
     "start_time": "2024-06-26T20:21:52.093569300Z"
    },
    "collapsed": false,
    "jupyter": {
     "outputs_hidden": false
    }
   },
   "outputs": [],
   "source": [
    "movies = pd.read_csv('movies.csv')"
   ]
  },
  {
   "cell_type": "markdown",
   "id": "5500a094d2d5032d",
   "metadata": {
    "collapsed": false,
    "jupyter": {
     "outputs_hidden": false
    }
   },
   "source": [
    "### Task 1.3: Merging the Datasets"
   ]
  },
  {
   "cell_type": "code",
   "execution_count": 5,
   "id": "bb30411521d7926b",
   "metadata": {
    "ExecuteTime": {
     "end_time": "2024-06-26T20:21:52.773972900Z",
     "start_time": "2024-06-26T20:21:52.103772600Z"
    },
    "collapsed": false,
    "jupyter": {
     "outputs_hidden": false
    }
   },
   "outputs": [],
   "source": [
    "imdb_movies = imdb.merge(movies, on='id')"
   ]
  },
  {
   "cell_type": "markdown",
   "id": "fbffd64f2d3f122",
   "metadata": {
    "collapsed": false,
    "jupyter": {
     "outputs_hidden": false
    }
   },
   "source": [
    "## Step 2: Exploring the Data"
   ]
  },
  {
   "cell_type": "markdown",
   "id": "58cd09a7d17114e1",
   "metadata": {
    "collapsed": false,
    "jupyter": {
     "outputs_hidden": false
    }
   },
   "source": [
    "### Task 2.1: Displaying the First Few Rows of the Data"
   ]
  },
  {
   "cell_type": "code",
   "execution_count": 6,
   "id": "9548ea2593e3b9de",
   "metadata": {
    "ExecuteTime": {
     "end_time": "2024-06-26T20:21:52.777926Z",
     "start_time": "2024-06-26T20:21:52.109289800Z"
    },
    "collapsed": false,
    "jupyter": {
     "outputs_hidden": false
    }
   },
   "outputs": [
    {
     "data": {
      "text/html": [
       "<div>\n",
       "<style scoped>\n",
       "    .dataframe tbody tr th:only-of-type {\n",
       "        vertical-align: middle;\n",
       "    }\n",
       "\n",
       "    .dataframe tbody tr th {\n",
       "        vertical-align: top;\n",
       "    }\n",
       "\n",
       "    .dataframe thead th {\n",
       "        text-align: right;\n",
       "    }\n",
       "</style>\n",
       "<table border=\"1\" class=\"dataframe\">\n",
       "  <thead>\n",
       "    <tr style=\"text-align: right;\">\n",
       "      <th></th>\n",
       "      <th>id</th>\n",
       "      <th>Poster_Link</th>\n",
       "      <th>Certificate</th>\n",
       "      <th>IMDB_Rating</th>\n",
       "      <th>Meta_score</th>\n",
       "      <th>Star1</th>\n",
       "      <th>Star2</th>\n",
       "      <th>Star3</th>\n",
       "      <th>Star4</th>\n",
       "      <th>No_of_Votes</th>\n",
       "      <th>Gross</th>\n",
       "      <th>Series_Title</th>\n",
       "      <th>Released_Year</th>\n",
       "      <th>Runtime</th>\n",
       "      <th>Genre</th>\n",
       "      <th>Overview</th>\n",
       "      <th>Director</th>\n",
       "    </tr>\n",
       "  </thead>\n",
       "  <tbody>\n",
       "    <tr>\n",
       "      <th>0</th>\n",
       "      <td>0</td>\n",
       "      <td>https://m.media-amazon.com/images/M/MV5BMDFkYT...</td>\n",
       "      <td>A</td>\n",
       "      <td>9.3</td>\n",
       "      <td>80.0</td>\n",
       "      <td>Tim Robbins</td>\n",
       "      <td>Morgan Freeman</td>\n",
       "      <td>Bob Gunton</td>\n",
       "      <td>William Sadler</td>\n",
       "      <td>2343110</td>\n",
       "      <td>28,341,469</td>\n",
       "      <td>The Shawshank Redemption</td>\n",
       "      <td>1994</td>\n",
       "      <td>142 min</td>\n",
       "      <td>Drama</td>\n",
       "      <td>Two imprisoned men bond over a number of years...</td>\n",
       "      <td>Frank Darabont</td>\n",
       "    </tr>\n",
       "    <tr>\n",
       "      <th>1</th>\n",
       "      <td>1</td>\n",
       "      <td>https://m.media-amazon.com/images/M/MV5BM2MyNj...</td>\n",
       "      <td>A</td>\n",
       "      <td>9.2</td>\n",
       "      <td>100.0</td>\n",
       "      <td>Marlon Brando</td>\n",
       "      <td>Al Pacino</td>\n",
       "      <td>James Caan</td>\n",
       "      <td>Diane Keaton</td>\n",
       "      <td>1620367</td>\n",
       "      <td>134,966,411</td>\n",
       "      <td>The Godfather</td>\n",
       "      <td>1972</td>\n",
       "      <td>175 min</td>\n",
       "      <td>Crime, Drama</td>\n",
       "      <td>An organized crime dynasty's aging patriarch t...</td>\n",
       "      <td>Francis Ford Coppola</td>\n",
       "    </tr>\n",
       "    <tr>\n",
       "      <th>2</th>\n",
       "      <td>2</td>\n",
       "      <td>https://m.media-amazon.com/images/M/MV5BMTMxNT...</td>\n",
       "      <td>UA</td>\n",
       "      <td>9.0</td>\n",
       "      <td>84.0</td>\n",
       "      <td>Christian Bale</td>\n",
       "      <td>Heath Ledger</td>\n",
       "      <td>Aaron Eckhart</td>\n",
       "      <td>Michael Caine</td>\n",
       "      <td>2303232</td>\n",
       "      <td>534,858,444</td>\n",
       "      <td>The Dark Knight</td>\n",
       "      <td>2008</td>\n",
       "      <td>152 min</td>\n",
       "      <td>Action, Crime, Drama</td>\n",
       "      <td>When the menace known as the Joker wreaks havo...</td>\n",
       "      <td>Christopher Nolan</td>\n",
       "    </tr>\n",
       "    <tr>\n",
       "      <th>3</th>\n",
       "      <td>3</td>\n",
       "      <td>https://m.media-amazon.com/images/M/MV5BMWMwMG...</td>\n",
       "      <td>A</td>\n",
       "      <td>9.0</td>\n",
       "      <td>90.0</td>\n",
       "      <td>Al Pacino</td>\n",
       "      <td>Robert De Niro</td>\n",
       "      <td>Robert Duvall</td>\n",
       "      <td>Diane Keaton</td>\n",
       "      <td>1129952</td>\n",
       "      <td>57,300,000</td>\n",
       "      <td>The Godfather: Part II</td>\n",
       "      <td>1974</td>\n",
       "      <td>202 min</td>\n",
       "      <td>Crime, Drama</td>\n",
       "      <td>The early life and career of Vito Corleone in ...</td>\n",
       "      <td>Francis Ford Coppola</td>\n",
       "    </tr>\n",
       "    <tr>\n",
       "      <th>4</th>\n",
       "      <td>4</td>\n",
       "      <td>https://m.media-amazon.com/images/M/MV5BMWU4N2...</td>\n",
       "      <td>U</td>\n",
       "      <td>9.0</td>\n",
       "      <td>96.0</td>\n",
       "      <td>Henry Fonda</td>\n",
       "      <td>Lee J. Cobb</td>\n",
       "      <td>Martin Balsam</td>\n",
       "      <td>John Fiedler</td>\n",
       "      <td>689845</td>\n",
       "      <td>4,360,000</td>\n",
       "      <td>12 Angry Men</td>\n",
       "      <td>1957</td>\n",
       "      <td>96 min</td>\n",
       "      <td>Crime, Drama</td>\n",
       "      <td>A jury holdout attempts to prevent a miscarria...</td>\n",
       "      <td>Sidney Lumet</td>\n",
       "    </tr>\n",
       "  </tbody>\n",
       "</table>\n",
       "</div>"
      ],
      "text/plain": [
       "   id                                        Poster_Link Certificate  \\\n",
       "0   0  https://m.media-amazon.com/images/M/MV5BMDFkYT...           A   \n",
       "1   1  https://m.media-amazon.com/images/M/MV5BM2MyNj...           A   \n",
       "2   2  https://m.media-amazon.com/images/M/MV5BMTMxNT...          UA   \n",
       "3   3  https://m.media-amazon.com/images/M/MV5BMWMwMG...           A   \n",
       "4   4  https://m.media-amazon.com/images/M/MV5BMWU4N2...           U   \n",
       "\n",
       "   IMDB_Rating  Meta_score           Star1           Star2          Star3  \\\n",
       "0          9.3        80.0     Tim Robbins  Morgan Freeman     Bob Gunton   \n",
       "1          9.2       100.0   Marlon Brando       Al Pacino     James Caan   \n",
       "2          9.0        84.0  Christian Bale    Heath Ledger  Aaron Eckhart   \n",
       "3          9.0        90.0       Al Pacino  Robert De Niro  Robert Duvall   \n",
       "4          9.0        96.0     Henry Fonda     Lee J. Cobb  Martin Balsam   \n",
       "\n",
       "            Star4  No_of_Votes        Gross              Series_Title  \\\n",
       "0  William Sadler      2343110   28,341,469  The Shawshank Redemption   \n",
       "1    Diane Keaton      1620367  134,966,411             The Godfather   \n",
       "2   Michael Caine      2303232  534,858,444           The Dark Knight   \n",
       "3    Diane Keaton      1129952   57,300,000    The Godfather: Part II   \n",
       "4    John Fiedler       689845    4,360,000              12 Angry Men   \n",
       "\n",
       "  Released_Year  Runtime                 Genre  \\\n",
       "0          1994  142 min                 Drama   \n",
       "1          1972  175 min          Crime, Drama   \n",
       "2          2008  152 min  Action, Crime, Drama   \n",
       "3          1974  202 min          Crime, Drama   \n",
       "4          1957   96 min          Crime, Drama   \n",
       "\n",
       "                                            Overview              Director  \n",
       "0  Two imprisoned men bond over a number of years...        Frank Darabont  \n",
       "1  An organized crime dynasty's aging patriarch t...  Francis Ford Coppola  \n",
       "2  When the menace known as the Joker wreaks havo...     Christopher Nolan  \n",
       "3  The early life and career of Vito Corleone in ...  Francis Ford Coppola  \n",
       "4  A jury holdout attempts to prevent a miscarria...          Sidney Lumet  "
      ]
     },
     "execution_count": 6,
     "metadata": {},
     "output_type": "execute_result"
    }
   ],
   "source": [
    "imdb_movies.head()"
   ]
  },
  {
   "cell_type": "markdown",
   "id": "3fdf9355ca164b1e",
   "metadata": {
    "collapsed": false,
    "jupyter": {
     "outputs_hidden": false
    }
   },
   "source": [
    "### Task 2.2: Checking for Missing Values"
   ]
  },
  {
   "cell_type": "code",
   "execution_count": 7,
   "id": "8ba230d18981c4e3",
   "metadata": {
    "ExecuteTime": {
     "end_time": "2024-06-26T20:21:52.846463600Z",
     "start_time": "2024-06-26T20:21:52.127226600Z"
    },
    "collapsed": false,
    "jupyter": {
     "outputs_hidden": false
    }
   },
   "outputs": [
    {
     "data": {
      "image/png": "[encoded data removed]",
      "text/plain": [
       "<Figure size 640x480 with 1 Axes>"
      ]
     },
     "metadata": {},
     "output_type": "display_data"
    },
    {
     "data": {
      "text/plain": [
       "Certificate    101\n",
       "Meta_score     157\n",
       "Gross          169\n",
       "dtype: int64"
      ]
     },
     "execution_count": 7,
     "metadata": {},
     "output_type": "execute_result"
    }
   ],
   "source": [
    "# Find the number of missing values in the imdb_movies dataset, and store the result as 'movies_missing_info'.\n",
    "movies_missing_info = imdb_movies.isna().sum()\n",
    "\n",
    "# let's reduce the df to contain only the columns with missing values.\n",
    "movies_missing_info = movies_missing_info[movies_missing_info > 0]\n",
    "\n",
    "movies_missing_info.plot(kind='bar', rot=45, color='gray')\n",
    "\n",
    "plt.xlabel('Attribute')\n",
    "plt.ylabel('Number of missing values')\n",
    "plt.title('Number of Missing Values for Each Attribute')\n",
    "\n",
    "plt.show()\n",
    "movies_missing_info"
   ]
  },
  {
   "cell_type": "markdown",
   "id": "20a523bbd484cfd5",
   "metadata": {
    "collapsed": false,
    "jupyter": {
     "outputs_hidden": false
    }
   },
   "source": [
    "There seems to be a noticeable number of information missing from the data, specially in the `Certificate`, `Meta_score`, and `Gross` columns. I wouldn't go as far as dropping these rows with missing values since I can still utilize the other attributes of these same rows for other insights."
   ]
  },
  {
   "cell_type": "markdown",
   "id": "ba4d4556b4d8404e",
   "metadata": {
    "collapsed": false,
    "jupyter": {
     "outputs_hidden": false
    }
   },
   "source": [
    "### Extra Task 2.2.B: Checking invalid values"
   ]
  },
  {
   "cell_type": "code",
   "execution_count": 8,
   "id": "b3bbdb1fa30803a7",
   "metadata": {
    "ExecuteTime": {
     "end_time": "2024-06-26T20:21:52.846463600Z",
     "start_time": "2024-06-26T20:21:52.260444600Z"
    },
    "collapsed": false,
    "jupyter": {
     "outputs_hidden": false
    }
   },
   "outputs": [
    {
     "data": {
      "text/plain": [
       "0             A\n",
       "2           U/A\n",
       "4             U\n",
       "18        PG-13\n",
       "24            R\n",
       "30      Unrated\n",
       "32           PG\n",
       "51            G\n",
       "82       Passed\n",
       "91        TV-14\n",
       "197          16\n",
       "198       TV-MA\n",
       "287          GP\n",
       "307    Approved\n",
       "349       TV-PG\n",
       "Name: Certificate, dtype: object"
      ]
     },
     "execution_count": 8,
     "metadata": {},
     "output_type": "execute_result"
    }
   ],
   "source": [
    "# I will consider the missing certificates as unrated for now\n",
    "# in real life this could be wrong since we might find the certificate later for these movies.\n",
    "# but since we're not modifying the original file then it's alright.\n",
    "imdb_movies['Certificate'] = imdb_movies['Certificate'].fillna('Unrated')\n",
    "\n",
    "# Also I checked that there is no UA certificate, so it's a typo of U/A\n",
    "imdb_movies.loc[imdb_movies['Certificate'] == 'UA', 'Certificate'] = 'U/A'\n",
    "\n",
    "imdb_movies['Certificate'].drop_duplicates()\n"
   ]
  },
  {
   "cell_type": "markdown",
   "id": "3a6890216f6d8316",
   "metadata": {
    "collapsed": false,
    "jupyter": {
     "outputs_hidden": false
    }
   },
   "source": [
    "### Task 2.3: Checking the Data Types "
   ]
  },
  {
   "cell_type": "code",
   "execution_count": 9,
   "id": "72b33b04697174c0",
   "metadata": {
    "ExecuteTime": {
     "end_time": "2024-06-26T20:21:52.857264700Z",
     "start_time": "2024-06-26T20:21:52.266923200Z"
    },
    "collapsed": false,
    "jupyter": {
     "outputs_hidden": false
    }
   },
   "outputs": [
    {
     "data": {
      "text/plain": [
       "id                 int64\n",
       "Poster_Link       object\n",
       "Certificate       object\n",
       "IMDB_Rating      float64\n",
       "Meta_score       float64\n",
       "Star1             object\n",
       "Star2             object\n",
       "Star3             object\n",
       "Star4             object\n",
       "No_of_Votes        int64\n",
       "Gross             object\n",
       "Series_Title      object\n",
       "Released_Year     object\n",
       "Runtime           object\n",
       "Genre             object\n",
       "Overview          object\n",
       "Director          object\n",
       "dtype: object"
      ]
     },
     "execution_count": 9,
     "metadata": {},
     "output_type": "execute_result"
    }
   ],
   "source": [
    "imdb_movies.dtypes"
   ]
  },
  {
   "cell_type": "markdown",
   "id": "8b235fde1c6227c0",
   "metadata": {
    "collapsed": false,
    "jupyter": {
     "outputs_hidden": false
    }
   },
   "source": [
    "### Task 2.4: Descriptive Statistics"
   ]
  },
  {
   "cell_type": "markdown",
   "id": "feebd1b12422db05",
   "metadata": {
    "collapsed": false,
    "jupyter": {
     "outputs_hidden": false
    }
   },
   "source": [
    " We need to modify the `Runtime` and `Gross` columns in order to be able to find statistical insights about them."
   ]
  },
  {
   "cell_type": "code",
   "execution_count": 10,
   "id": "6c1eb597cca02630",
   "metadata": {
    "ExecuteTime": {
     "end_time": "2024-06-26T20:21:52.867480600Z",
     "start_time": "2024-06-26T20:21:52.277282900Z"
    },
    "collapsed": false,
    "jupyter": {
     "outputs_hidden": false
    }
   },
   "outputs": [],
   "source": [
    "imdb_movies['Runtime'] = imdb_movies['Runtime'].str.replace(' min', '').astype(int)\n",
    "imdb_movies['Gross'] = imdb_movies['Gross'].str.replace(',', '').astype(float)"
   ]
  },
  {
   "cell_type": "code",
   "execution_count": 11,
   "id": "8edf14f575b6f12c",
   "metadata": {
    "ExecuteTime": {
     "end_time": "2024-06-26T20:21:52.871289400Z",
     "start_time": "2024-06-26T20:21:52.290222300Z"
    },
    "collapsed": false,
    "jupyter": {
     "outputs_hidden": false
    }
   },
   "outputs": [
    {
     "data": {
      "text/html": [
       "<div>\n",
       "<style scoped>\n",
       "    .dataframe tbody tr th:only-of-type {\n",
       "        vertical-align: middle;\n",
       "    }\n",
       "\n",
       "    .dataframe tbody tr th {\n",
       "        vertical-align: top;\n",
       "    }\n",
       "\n",
       "    .dataframe thead th {\n",
       "        text-align: right;\n",
       "    }\n",
       "</style>\n",
       "<table border=\"1\" class=\"dataframe\">\n",
       "  <thead>\n",
       "    <tr style=\"text-align: right;\">\n",
       "      <th></th>\n",
       "      <th>IMDB_Rating</th>\n",
       "      <th>Meta_score</th>\n",
       "      <th>No_of_Votes</th>\n",
       "      <th>Gross</th>\n",
       "      <th>Runtime</th>\n",
       "    </tr>\n",
       "  </thead>\n",
       "  <tbody>\n",
       "    <tr>\n",
       "      <th>count</th>\n",
       "      <td>1000.000000</td>\n",
       "      <td>843.000000</td>\n",
       "      <td>1.000000e+03</td>\n",
       "      <td>8.310000e+02</td>\n",
       "      <td>1000.000000</td>\n",
       "    </tr>\n",
       "    <tr>\n",
       "      <th>mean</th>\n",
       "      <td>7.949300</td>\n",
       "      <td>77.971530</td>\n",
       "      <td>2.736929e+05</td>\n",
       "      <td>6.803475e+07</td>\n",
       "      <td>122.891000</td>\n",
       "    </tr>\n",
       "    <tr>\n",
       "      <th>std</th>\n",
       "      <td>0.275491</td>\n",
       "      <td>12.376099</td>\n",
       "      <td>3.273727e+05</td>\n",
       "      <td>1.097500e+08</td>\n",
       "      <td>28.093671</td>\n",
       "    </tr>\n",
       "    <tr>\n",
       "      <th>min</th>\n",
       "      <td>7.600000</td>\n",
       "      <td>28.000000</td>\n",
       "      <td>2.508800e+04</td>\n",
       "      <td>1.305000e+03</td>\n",
       "      <td>45.000000</td>\n",
       "    </tr>\n",
       "    <tr>\n",
       "      <th>25%</th>\n",
       "      <td>7.700000</td>\n",
       "      <td>70.000000</td>\n",
       "      <td>5.552625e+04</td>\n",
       "      <td>3.253559e+06</td>\n",
       "      <td>103.000000</td>\n",
       "    </tr>\n",
       "    <tr>\n",
       "      <th>50%</th>\n",
       "      <td>7.900000</td>\n",
       "      <td>79.000000</td>\n",
       "      <td>1.385485e+05</td>\n",
       "      <td>2.353089e+07</td>\n",
       "      <td>119.000000</td>\n",
       "    </tr>\n",
       "    <tr>\n",
       "      <th>75%</th>\n",
       "      <td>8.100000</td>\n",
       "      <td>87.000000</td>\n",
       "      <td>3.741612e+05</td>\n",
       "      <td>8.075089e+07</td>\n",
       "      <td>137.000000</td>\n",
       "    </tr>\n",
       "    <tr>\n",
       "      <th>max</th>\n",
       "      <td>9.300000</td>\n",
       "      <td>100.000000</td>\n",
       "      <td>2.343110e+06</td>\n",
       "      <td>9.366622e+08</td>\n",
       "      <td>321.000000</td>\n",
       "    </tr>\n",
       "  </tbody>\n",
       "</table>\n",
       "</div>"
      ],
      "text/plain": [
       "       IMDB_Rating  Meta_score   No_of_Votes         Gross      Runtime\n",
       "count  1000.000000  843.000000  1.000000e+03  8.310000e+02  1000.000000\n",
       "mean      7.949300   77.971530  2.736929e+05  6.803475e+07   122.891000\n",
       "std       0.275491   12.376099  3.273727e+05  1.097500e+08    28.093671\n",
       "min       7.600000   28.000000  2.508800e+04  1.305000e+03    45.000000\n",
       "25%       7.700000   70.000000  5.552625e+04  3.253559e+06   103.000000\n",
       "50%       7.900000   79.000000  1.385485e+05  2.353089e+07   119.000000\n",
       "75%       8.100000   87.000000  3.741612e+05  8.075089e+07   137.000000\n",
       "max       9.300000  100.000000  2.343110e+06  9.366622e+08   321.000000"
      ]
     },
     "execution_count": 11,
     "metadata": {},
     "output_type": "execute_result"
    }
   ],
   "source": [
    "# dropping the id column since descriptive stats aren't meaningful for it\n",
    "imdb_movies.drop(columns='id').describe()"
   ]
  },
  {
   "cell_type": "markdown",
   "id": "5face2f4774bcb12",
   "metadata": {
    "collapsed": false,
    "jupyter": {
     "outputs_hidden": false
    }
   },
   "source": [
    "## Step 3: Analyzing the Distribution of IMDb Ratings by Genre"
   ]
  },
  {
   "cell_type": "markdown",
   "id": "95019dec30958728",
   "metadata": {
    "collapsed": false,
    "jupyter": {
     "outputs_hidden": false
    }
   },
   "source": [
    "### Task 3.1: Identifying the Unique Genres"
   ]
  },
  {
   "cell_type": "code",
   "execution_count": 12,
   "id": "6fe33aca930499df",
   "metadata": {
    "ExecuteTime": {
     "end_time": "2024-06-26T20:21:52.871289400Z",
     "start_time": "2024-06-26T20:21:52.314962800Z"
    },
    "collapsed": false,
    "jupyter": {
     "outputs_hidden": false
    }
   },
   "outputs": [
    {
     "data": {
      "text/plain": [
       "{'Action',\n",
       " 'Adventure',\n",
       " 'Animation',\n",
       " 'Biography',\n",
       " 'Comedy',\n",
       " 'Crime',\n",
       " 'Drama',\n",
       " 'Family',\n",
       " 'Fantasy',\n",
       " 'Film-Noir',\n",
       " 'History',\n",
       " 'Horror',\n",
       " 'Music',\n",
       " 'Musical',\n",
       " 'Mystery',\n",
       " 'Romance',\n",
       " 'Sci-Fi',\n",
       " 'Sport',\n",
       " 'Thriller',\n",
       " 'War',\n",
       " 'Western'}"
      ]
     },
     "execution_count": 12,
     "metadata": {},
     "output_type": "execute_result"
    }
   ],
   "source": [
    "## In case of unique chunks of genres.\n",
    "imdb_movies['Genre'].unique()\n",
    "\n",
    "######################\n",
    "\n",
    "## In case of unique genres.\n",
    "unique_genres = set()\n",
    "for genres in imdb_movies['Genre']:\n",
    "    for genre in genres.split(', '):\n",
    "        unique_genres.add(genre)\n",
    "unique_genres"
   ]
  },
  {
   "cell_type": "markdown",
   "id": "35a2bb3c4ba1b75b",
   "metadata": {
    "collapsed": false,
    "jupyter": {
     "outputs_hidden": false
    }
   },
   "source": [
    "The dataset contains 21 different movie genres, and 202 unique genre combinations"
   ]
  },
  {
   "cell_type": "markdown",
   "id": "c2d771b890d25720",
   "metadata": {
    "collapsed": false,
    "jupyter": {
     "outputs_hidden": false
    }
   },
   "source": [
    "### Task 3.2: Calculating the Average IMDb Rating for Each Genre"
   ]
  },
  {
   "cell_type": "code",
   "execution_count": 13,
   "id": "e0931d73615327ef",
   "metadata": {
    "ExecuteTime": {
     "end_time": "2024-06-26T20:21:52.898482200Z",
     "start_time": "2024-06-26T20:21:52.322891800Z"
    },
    "collapsed": false,
    "jupyter": {
     "outputs_hidden": false
    }
   },
   "outputs": [
    {
     "data": {
      "text/plain": [
       "Genre\n",
       "War          8.013725\n",
       "Western      8.000000\n",
       "Film-Noir    7.989474\n",
       "Sci-Fi       7.977612\n",
       "Mystery      7.967677\n",
       "Drama        7.959392\n",
       "Crime        7.954545\n",
       "History      7.953571\n",
       "Adventure    7.952041\n",
       "Action       7.948677\n",
       "Musical      7.947059\n",
       "Biography    7.935780\n",
       "Fantasy      7.931818\n",
       "Animation    7.930488\n",
       "Sport        7.926316\n",
       "Romance      7.925600\n",
       "Music        7.914286\n",
       "Family       7.912500\n",
       "Thriller     7.909489\n",
       "Comedy       7.903433\n",
       "Horror       7.887500\n",
       "Name: IMDB_Rating, dtype: float64"
      ]
     },
     "execution_count": 13,
     "metadata": {},
     "output_type": "execute_result"
    }
   ],
   "source": [
    "## In case of unique chunk of genres.\n",
    "# genres = imdb_movies.groupby('Genre')\n",
    "# avg_genre_ratings = genres['IMDB_Rating'].mean()\n",
    "\n",
    "\n",
    "####################################\n",
    "# In case of unique genres. \n",
    "genre_list = []\n",
    "for key, row in imdb_movies.iterrows():\n",
    "    for genre in row['Genre'].split(', '):\n",
    "        genre_list.append(  {'Genre':genre ,\n",
    "                       'IMDB_Rating': row['IMDB_Rating'],\n",
    "                        'Director': row['Director'],\n",
    "                       'Gross': row['Gross'],\n",
    "                       'Meta_score': row['Meta_score']} )\n",
    "\n",
    "genre_groups = pd.DataFrame(genre_list).groupby('Genre')\n",
    "avg_genre_ratings =  genre_groups['IMDB_Rating'].mean()\n",
    "\n",
    "\n",
    "avg_genre_ratings.sort_values(ascending=False)"
   ]
  },
  {
   "cell_type": "markdown",
   "id": "9c17200516cc806",
   "metadata": {
    "collapsed": false,
    "jupyter": {
     "outputs_hidden": false
    }
   },
   "source": [
    "### Task 3.3: Visualizing the Average IMDb Ratings by Genre"
   ]
  },
  {
   "cell_type": "code",
   "execution_count": 14,
   "id": "5b139150c776ecd",
   "metadata": {
    "ExecuteTime": {
     "end_time": "2024-06-26T20:21:52.936705500Z",
     "start_time": "2024-06-26T20:21:52.423068700Z"
    },
    "collapsed": false,
    "jupyter": {
     "outputs_hidden": false
    }
   },
   "outputs": [
    {
     "data": {
      "image/png": "[encoded data removed]",
      "text/plain": [
       "<Figure size 1000x600 with 1 Axes>"
      ]
     },
     "metadata": {},
     "output_type": "display_data"
    }
   ],
   "source": [
    "## In case of unique chunk of genres.\n",
    "# plt.figure(figsize=(22, 10))\n",
    "# avg_genre_ratings.sort_values(ascending=False).plot(kind='bar', rot=45)\n",
    "\n",
    "\n",
    "####################################\n",
    "## In case of unique genres.\n",
    "\n",
    "plt.figure(figsize=(10,6))\n",
    "plt.scatter(avg_genre_ratings.index, avg_genre_ratings.values)\n",
    "plt.xticks(rotation=45)\n",
    "# avg_genre_ratings.sort_values(ascending=False).plot(kind='bar', rot=45)\n",
    "\n",
    "\n",
    "plt.title('Average IMDb Ratings by Genre')\n",
    "plt.xlabel('Genre')\n",
    "plt.ylabel('AVG IMDb Ratings')\n",
    "plt.show()\n"
   ]
  },
  {
   "cell_type": "markdown",
   "id": "bac93afb17b917d3",
   "metadata": {
    "collapsed": false,
    "jupyter": {
     "outputs_hidden": false
    }
   },
   "source": [
    "There doesn't seem to be a major influence of movie genre on its rating, as we can see in the case of horror (lowest rating) and war (highest rating) movies. Therefore, the ratings differences aren't significant enough to conclude a definitive relationship between the two attributes."
   ]
  },
  {
   "cell_type": "markdown",
   "id": "331e45e8db0f7c9",
   "metadata": {
    "collapsed": false,
    "jupyter": {
     "outputs_hidden": false
    }
   },
   "source": [
    "## Step 4: Investigating the Relationship Between Movie Runtime and IMDb Ratings"
   ]
  },
  {
   "cell_type": "markdown",
   "id": "1e9d2ad243ad25ac",
   "metadata": {
    "collapsed": false,
    "jupyter": {
     "outputs_hidden": false
    }
   },
   "source": [
    "### Task 4.1: Analyzing the Summary Statistics for Movie Runtime"
   ]
  },
  {
   "cell_type": "code",
   "execution_count": 15,
   "id": "c4afd5993c2b9a29",
   "metadata": {
    "ExecuteTime": {
     "end_time": "2024-06-26T20:21:52.937214700Z",
     "start_time": "2024-06-26T20:21:52.633369700Z"
    },
    "collapsed": false,
    "jupyter": {
     "outputs_hidden": false
    }
   },
   "outputs": [
    {
     "data": {
      "text/plain": [
       "count    1000.000000\n",
       "mean      122.891000\n",
       "std        28.093671\n",
       "min        45.000000\n",
       "25%       103.000000\n",
       "50%       119.000000\n",
       "75%       137.000000\n",
       "max       321.000000\n",
       "Name: Runtime, dtype: float64"
      ]
     },
     "execution_count": 15,
     "metadata": {},
     "output_type": "execute_result"
    }
   ],
   "source": [
    "imdb_movies['Runtime'].describe()"
   ]
  },
  {
   "cell_type": "markdown",
   "id": "aa84526d9055dae2",
   "metadata": {
    "collapsed": false,
    "jupyter": {
     "outputs_hidden": false
    }
   },
   "source": [
    "Average movie runtime is about 2.3 hours long, with the shortest movie having runtime of 45 minutes, and the longest is 5.21 hours long."
   ]
  },
  {
   "cell_type": "markdown",
   "id": "a54f53ab4aaee170",
   "metadata": {
    "collapsed": false,
    "jupyter": {
     "outputs_hidden": false
    }
   },
   "source": [
    "### Task 4.2: Creating a Scatter Plot of Movie Runtime vs. IMDb Rating"
   ]
  },
  {
   "cell_type": "code",
   "execution_count": 16,
   "id": "e090967c31defb36",
   "metadata": {
    "ExecuteTime": {
     "end_time": "2024-06-26T20:21:53.225348200Z",
     "start_time": "2024-06-26T20:21:52.641370200Z"
    },
    "collapsed": false,
    "jupyter": {
     "outputs_hidden": false
    }
   },
   "outputs": [
    {
     "data": {
      "image/png": "[encoded data removed]",
      "text/plain": [
       "<Figure size 640x480 with 1 Axes>"
      ]
     },
     "metadata": {},
     "output_type": "display_data"
    },
    {
     "data": {
      "text/html": [
       "<div>\n",
       "<style scoped>\n",
       "    .dataframe tbody tr th:only-of-type {\n",
       "        vertical-align: middle;\n",
       "    }\n",
       "\n",
       "    .dataframe tbody tr th {\n",
       "        vertical-align: top;\n",
       "    }\n",
       "\n",
       "    .dataframe thead th {\n",
       "        text-align: right;\n",
       "    }\n",
       "</style>\n",
       "<table border=\"1\" class=\"dataframe\">\n",
       "  <thead>\n",
       "    <tr style=\"text-align: right;\">\n",
       "      <th></th>\n",
       "      <th>IMDB_Rating</th>\n",
       "      <th>Runtime</th>\n",
       "    </tr>\n",
       "  </thead>\n",
       "  <tbody>\n",
       "    <tr>\n",
       "      <th>IMDB_Rating</th>\n",
       "      <td>1.000000</td>\n",
       "      <td>0.243096</td>\n",
       "    </tr>\n",
       "    <tr>\n",
       "      <th>Runtime</th>\n",
       "      <td>0.243096</td>\n",
       "      <td>1.000000</td>\n",
       "    </tr>\n",
       "  </tbody>\n",
       "</table>\n",
       "</div>"
      ],
      "text/plain": [
       "             IMDB_Rating   Runtime\n",
       "IMDB_Rating     1.000000  0.243096\n",
       "Runtime         0.243096  1.000000"
      ]
     },
     "execution_count": 16,
     "metadata": {},
     "output_type": "execute_result"
    }
   ],
   "source": [
    "imdb_movies.plot.scatter(y='Runtime', x='IMDB_Rating', alpha=0.5)\n",
    "plt.title('Movie Runtime vs. IMDB Rating')\n",
    "\n",
    "\n",
    "z = np.polyfit(imdb_movies['IMDB_Rating'],imdb_movies['Runtime'],1)\n",
    "p = np.poly1d(z)\n",
    "plt.plot(imdb_movies['IMDB_Rating'], p(imdb_movies['IMDB_Rating']), 'r')\n",
    "\n",
    "plt.show()\n",
    "\n",
    "imdb_movies[['IMDB_Rating', 'Runtime']].corr()"
   ]
  },
  {
   "cell_type": "markdown",
   "id": "174d3a9e374de396",
   "metadata": {
    "collapsed": false,
    "jupyter": {
     "outputs_hidden": false
    }
   },
   "source": [
    "There seems to be a weak positive relationship between a movie's runtime and rating."
   ]
  },
  {
   "cell_type": "markdown",
   "id": "d2ce5ee6e5498325",
   "metadata": {
    "collapsed": false,
    "jupyter": {
     "outputs_hidden": false
    }
   },
   "source": [
    "## Step 5: Identifying the Top-Rated Directors in Each Genre"
   ]
  },
  {
   "cell_type": "markdown",
   "id": "549c70e5c01572e8",
   "metadata": {
    "collapsed": false,
    "jupyter": {
     "outputs_hidden": false
    }
   },
   "source": [
    "### Task 5.1: Extracting the Top Director for Each Genre"
   ]
  },
  {
   "cell_type": "code",
   "execution_count": 17,
   "id": "909fda366cf0f3a5",
   "metadata": {
    "ExecuteTime": {
     "end_time": "2024-06-26T20:21:53.225348200Z",
     "start_time": "2024-06-26T20:21:52.818312300Z"
    },
    "collapsed": false,
    "jupyter": {
     "outputs_hidden": false
    }
   },
   "outputs": [],
   "source": [
    "# In case of unique chunk of genres.\n",
    "\n",
    "## This method finds the top directors by genre, given a specific judging criteria.\n",
    "def get_top_directors_by(attribute):\n",
    "    top_dir_func = lambda x: x[x[attribute] == x[attribute].max()][['Director',attribute, 'Series_Title']]\n",
    "    filtered_movies = imdb_movies.dropna(subset=[attribute])\n",
    "    return filtered_movies.groupby('Genre').apply(top_dir_func, include_groups=False)\\\n",
    "                                           .sort_values(attribute, ascending=False)"
   ]
  },
  {
   "cell_type": "code",
   "execution_count": 18,
   "id": "c28e781fa7bf6dab",
   "metadata": {
    "ExecuteTime": {
     "end_time": "2024-06-26T20:21:53.292311200Z",
     "start_time": "2024-06-26T20:21:52.823355100Z"
    },
    "collapsed": false,
    "jupyter": {
     "outputs_hidden": false
    }
   },
   "outputs": [
    {
     "data": {
      "text/html": [
       "<div>\n",
       "<style scoped>\n",
       "    .dataframe tbody tr th:only-of-type {\n",
       "        vertical-align: middle;\n",
       "    }\n",
       "\n",
       "    .dataframe tbody tr th {\n",
       "        vertical-align: top;\n",
       "    }\n",
       "\n",
       "    .dataframe thead th {\n",
       "        text-align: right;\n",
       "    }\n",
       "</style>\n",
       "<table border=\"1\" class=\"dataframe\">\n",
       "  <thead>\n",
       "    <tr style=\"text-align: right;\">\n",
       "      <th></th>\n",
       "      <th></th>\n",
       "      <th>Director</th>\n",
       "      <th>IMDB_Rating</th>\n",
       "      <th>Series_Title</th>\n",
       "    </tr>\n",
       "    <tr>\n",
       "      <th>Genre</th>\n",
       "      <th></th>\n",
       "      <th></th>\n",
       "      <th></th>\n",
       "      <th></th>\n",
       "    </tr>\n",
       "  </thead>\n",
       "  <tbody>\n",
       "    <tr>\n",
       "      <th>Drama</th>\n",
       "      <th>0</th>\n",
       "      <td>Frank Darabont</td>\n",
       "      <td>9.3</td>\n",
       "      <td>The Shawshank Redemption</td>\n",
       "    </tr>\n",
       "    <tr>\n",
       "      <th>Crime, Drama</th>\n",
       "      <th>1</th>\n",
       "      <td>Francis Ford Coppola</td>\n",
       "      <td>9.2</td>\n",
       "      <td>The Godfather</td>\n",
       "    </tr>\n",
       "    <tr>\n",
       "      <th>Action, Crime, Drama</th>\n",
       "      <th>2</th>\n",
       "      <td>Christopher Nolan</td>\n",
       "      <td>9.0</td>\n",
       "      <td>The Dark Knight</td>\n",
       "    </tr>\n",
       "    <tr>\n",
       "      <th>Action, Adventure, Drama</th>\n",
       "      <th>5</th>\n",
       "      <td>Peter Jackson</td>\n",
       "      <td>8.9</td>\n",
       "      <td>The Lord of the Rings: The Return of the King</td>\n",
       "    </tr>\n",
       "    <tr>\n",
       "      <th>Biography, Drama, History</th>\n",
       "      <th>7</th>\n",
       "      <td>Steven Spielberg</td>\n",
       "      <td>8.9</td>\n",
       "      <td>Schindler's List</td>\n",
       "    </tr>\n",
       "    <tr>\n",
       "      <th>...</th>\n",
       "      <th>...</th>\n",
       "      <td>...</td>\n",
       "      <td>...</td>\n",
       "      <td>...</td>\n",
       "    </tr>\n",
       "    <tr>\n",
       "      <th>Action, Crime, Mystery</th>\n",
       "      <th>951</th>\n",
       "      <td>Steven Spielberg</td>\n",
       "      <td>7.6</td>\n",
       "      <td>Minority Report</td>\n",
       "    </tr>\n",
       "    <tr>\n",
       "      <th>Action, Adventure, Mystery</th>\n",
       "      <th>914</th>\n",
       "      <td>Guy Ritchie</td>\n",
       "      <td>7.6</td>\n",
       "      <td>Sherlock Holmes</td>\n",
       "    </tr>\n",
       "    <tr>\n",
       "      <th>Action, Adventure, Family</th>\n",
       "      <th>927</th>\n",
       "      <td>David Yates</td>\n",
       "      <td>7.6</td>\n",
       "      <td>Harry Potter and the Half-Blood Prince</td>\n",
       "    </tr>\n",
       "    <tr>\n",
       "      <th>Action, Adventure, Crime</th>\n",
       "      <th>909</th>\n",
       "      <td>Daniel Monzón</td>\n",
       "      <td>7.6</td>\n",
       "      <td>Celda 211</td>\n",
       "    </tr>\n",
       "    <tr>\n",
       "      <th>Drama, War, Western</th>\n",
       "      <th>990</th>\n",
       "      <td>Sergio Leone</td>\n",
       "      <td>7.6</td>\n",
       "      <td>Giù la testa</td>\n",
       "    </tr>\n",
       "  </tbody>\n",
       "</table>\n",
       "<p>235 rows × 3 columns</p>\n",
       "</div>"
      ],
      "text/plain": [
       "                                            Director  IMDB_Rating  \\\n",
       "Genre                                                               \n",
       "Drama                      0          Frank Darabont          9.3   \n",
       "Crime, Drama               1    Francis Ford Coppola          9.2   \n",
       "Action, Crime, Drama       2       Christopher Nolan          9.0   \n",
       "Action, Adventure, Drama   5           Peter Jackson          8.9   \n",
       "Biography, Drama, History  7        Steven Spielberg          8.9   \n",
       "...                                              ...          ...   \n",
       "Action, Crime, Mystery     951      Steven Spielberg          7.6   \n",
       "Action, Adventure, Mystery 914           Guy Ritchie          7.6   \n",
       "Action, Adventure, Family  927           David Yates          7.6   \n",
       "Action, Adventure, Crime   909         Daniel Monzón          7.6   \n",
       "Drama, War, Western        990          Sergio Leone          7.6   \n",
       "\n",
       "                                                                 Series_Title  \n",
       "Genre                                                                          \n",
       "Drama                      0                         The Shawshank Redemption  \n",
       "Crime, Drama               1                                    The Godfather  \n",
       "Action, Crime, Drama       2                                  The Dark Knight  \n",
       "Action, Adventure, Drama   5    The Lord of the Rings: The Return of the King  \n",
       "Biography, Drama, History  7                                 Schindler's List  \n",
       "...                                                                       ...  \n",
       "Action, Crime, Mystery     951                                Minority Report  \n",
       "Action, Adventure, Mystery 914                                Sherlock Holmes  \n",
       "Action, Adventure, Family  927         Harry Potter and the Half-Blood Prince  \n",
       "Action, Adventure, Crime   909                                      Celda 211  \n",
       "Drama, War, Western        990                                   Giù la testa  \n",
       "\n",
       "[235 rows x 3 columns]"
      ]
     },
     "execution_count": 18,
     "metadata": {},
     "output_type": "execute_result"
    }
   ],
   "source": [
    "top_directors_by_genre = get_top_directors_by('IMDB_Rating')\n",
    "top_directors_by_genre"
   ]
  },
  {
   "cell_type": "markdown",
   "id": "ceb3d4fffde77118",
   "metadata": {
    "collapsed": false,
    "jupyter": {
     "outputs_hidden": false
    }
   },
   "source": [
    "Wow, `Frank Darabont`'s Drama movie `The Shawshank Redemption` have the highest rating of 9.3 in the entire dataset.\n",
    "But let's be fair, look at the top 4 directors and their movies, we all recognize these :)"
   ]
  },
  {
   "cell_type": "code",
   "execution_count": 19,
   "id": "9ddb31730a7e766c",
   "metadata": {
    "ExecuteTime": {
     "end_time": "2024-06-26T20:21:53.292311200Z",
     "start_time": "2024-06-26T20:21:53.016378200Z"
    },
    "collapsed": false,
    "jupyter": {
     "outputs_hidden": false
    }
   },
   "outputs": [],
   "source": [
    "# In case of unique genres.\n",
    "\n",
    "## This method finds the top directors by genre, given a specific judging criteria.\n",
    "def get_top_unique_genre_directors_by(attribute):\n",
    "    # find the avg 'attribute' for each genre and director\n",
    "    genre_director_group = pd.DataFrame(genre_list).groupby(['Genre', 'Director'])\n",
    "    avg_genre_director = genre_director_group[attribute].mean().reset_index()\n",
    "\n",
    "    # find the max avg for each genre\n",
    "    max_avg_per_genre = avg_genre_director.groupby('Genre')[attribute].max()\n",
    "    is_max = lambda current: current[attribute] == max_avg_per_genre.loc[current['Genre']]\n",
    "\n",
    "    # filter for directors with max avg in their genres and return the result.\n",
    "    return avg_genre_director[avg_genre_director.agg(is_max, axis=1)].sort_values(attribute, ascending=False)"
   ]
  },
  {
   "cell_type": "code",
   "execution_count": 20,
   "id": "abed87a91d8035c3",
   "metadata": {
    "ExecuteTime": {
     "end_time": "2024-06-26T20:21:53.318862500Z",
     "start_time": "2024-06-26T20:21:53.020809600Z"
    },
    "collapsed": false,
    "jupyter": {
     "outputs_hidden": false
    }
   },
   "outputs": [
    {
     "data": {
      "text/html": [
       "<div>\n",
       "<style scoped>\n",
       "    .dataframe tbody tr th:only-of-type {\n",
       "        vertical-align: middle;\n",
       "    }\n",
       "\n",
       "    .dataframe tbody tr th {\n",
       "        vertical-align: top;\n",
       "    }\n",
       "\n",
       "    .dataframe thead th {\n",
       "        text-align: right;\n",
       "    }\n",
       "</style>\n",
       "<table border=\"1\" class=\"dataframe\">\n",
       "  <thead>\n",
       "    <tr style=\"text-align: right;\">\n",
       "      <th></th>\n",
       "      <th>Genre</th>\n",
       "      <th>Director</th>\n",
       "      <th>IMDB_Rating</th>\n",
       "    </tr>\n",
       "  </thead>\n",
       "  <tbody>\n",
       "    <tr>\n",
       "      <th>603</th>\n",
       "      <td>Crime</td>\n",
       "      <td>Christopher Nolan</td>\n",
       "      <td>9.000</td>\n",
       "    </tr>\n",
       "    <tr>\n",
       "      <th>858</th>\n",
       "      <td>Drama</td>\n",
       "      <td>Frank Darabont</td>\n",
       "      <td>8.950</td>\n",
       "    </tr>\n",
       "    <tr>\n",
       "      <th>96</th>\n",
       "      <td>Action</td>\n",
       "      <td>Peter Jackson</td>\n",
       "      <td>8.800</td>\n",
       "    </tr>\n",
       "    <tr>\n",
       "      <th>183</th>\n",
       "      <td>Adventure</td>\n",
       "      <td>Irvin Kershner</td>\n",
       "      <td>8.700</td>\n",
       "    </tr>\n",
       "    <tr>\n",
       "      <th>1611</th>\n",
       "      <td>Sci-Fi</td>\n",
       "      <td>Lana Wachowski</td>\n",
       "      <td>8.700</td>\n",
       "    </tr>\n",
       "    <tr>\n",
       "      <th>1236</th>\n",
       "      <td>Fantasy</td>\n",
       "      <td>Irvin Kershner</td>\n",
       "      <td>8.700</td>\n",
       "    </tr>\n",
       "    <tr>\n",
       "      <th>541</th>\n",
       "      <td>Comedy</td>\n",
       "      <td>Roberto Benigni</td>\n",
       "      <td>8.600</td>\n",
       "    </tr>\n",
       "    <tr>\n",
       "      <th>402</th>\n",
       "      <td>Biography</td>\n",
       "      <td>Thomas Kail</td>\n",
       "      <td>8.600</td>\n",
       "    </tr>\n",
       "    <tr>\n",
       "      <th>1705</th>\n",
       "      <td>Thriller</td>\n",
       "      <td>Jonathan Demme</td>\n",
       "      <td>8.600</td>\n",
       "    </tr>\n",
       "    <tr>\n",
       "      <th>429</th>\n",
       "      <td>Comedy</td>\n",
       "      <td>Bong Joon Ho</td>\n",
       "      <td>8.600</td>\n",
       "    </tr>\n",
       "    <tr>\n",
       "      <th>1332</th>\n",
       "      <td>History</td>\n",
       "      <td>Thomas Kail</td>\n",
       "      <td>8.600</td>\n",
       "    </tr>\n",
       "    <tr>\n",
       "      <th>1179</th>\n",
       "      <td>Family</td>\n",
       "      <td>Frank Capra</td>\n",
       "      <td>8.600</td>\n",
       "    </tr>\n",
       "    <tr>\n",
       "      <th>1661</th>\n",
       "      <td>Thriller</td>\n",
       "      <td>Bong Joon Ho</td>\n",
       "      <td>8.600</td>\n",
       "    </tr>\n",
       "    <tr>\n",
       "      <th>1562</th>\n",
       "      <td>Romance</td>\n",
       "      <td>Roberto Benigni</td>\n",
       "      <td>8.600</td>\n",
       "    </tr>\n",
       "    <tr>\n",
       "      <th>1454</th>\n",
       "      <td>Mystery</td>\n",
       "      <td>Masaki Kobayashi</td>\n",
       "      <td>8.600</td>\n",
       "    </tr>\n",
       "    <tr>\n",
       "      <th>1794</th>\n",
       "      <td>War</td>\n",
       "      <td>Steven Spielberg</td>\n",
       "      <td>8.600</td>\n",
       "    </tr>\n",
       "    <tr>\n",
       "      <th>302</th>\n",
       "      <td>Animation</td>\n",
       "      <td>Roger Allers</td>\n",
       "      <td>8.500</td>\n",
       "    </tr>\n",
       "    <tr>\n",
       "      <th>1387</th>\n",
       "      <td>Music</td>\n",
       "      <td>Roman Polanski</td>\n",
       "      <td>8.500</td>\n",
       "    </tr>\n",
       "    <tr>\n",
       "      <th>1357</th>\n",
       "      <td>Horror</td>\n",
       "      <td>Ridley Scott</td>\n",
       "      <td>8.400</td>\n",
       "    </tr>\n",
       "    <tr>\n",
       "      <th>1361</th>\n",
       "      <td>Horror</td>\n",
       "      <td>Stanley Kubrick</td>\n",
       "      <td>8.400</td>\n",
       "    </tr>\n",
       "    <tr>\n",
       "      <th>1810</th>\n",
       "      <td>Western</td>\n",
       "      <td>Quentin Tarantino</td>\n",
       "      <td>8.400</td>\n",
       "    </tr>\n",
       "    <tr>\n",
       "      <th>1398</th>\n",
       "      <td>Musical</td>\n",
       "      <td>Hrishikesh Mukherjee</td>\n",
       "      <td>8.400</td>\n",
       "    </tr>\n",
       "    <tr>\n",
       "      <th>1638</th>\n",
       "      <td>Sport</td>\n",
       "      <td>Majid Majidi</td>\n",
       "      <td>8.300</td>\n",
       "    </tr>\n",
       "    <tr>\n",
       "      <th>1278</th>\n",
       "      <td>Film-Noir</td>\n",
       "      <td>Billy Wilder</td>\n",
       "      <td>8.175</td>\n",
       "    </tr>\n",
       "  </tbody>\n",
       "</table>\n",
       "</div>"
      ],
      "text/plain": [
       "          Genre              Director  IMDB_Rating\n",
       "603       Crime     Christopher Nolan        9.000\n",
       "858       Drama        Frank Darabont        8.950\n",
       "96       Action         Peter Jackson        8.800\n",
       "183   Adventure        Irvin Kershner        8.700\n",
       "1611     Sci-Fi        Lana Wachowski        8.700\n",
       "1236    Fantasy        Irvin Kershner        8.700\n",
       "541      Comedy       Roberto Benigni        8.600\n",
       "402   Biography           Thomas Kail        8.600\n",
       "1705   Thriller        Jonathan Demme        8.600\n",
       "429      Comedy          Bong Joon Ho        8.600\n",
       "1332    History           Thomas Kail        8.600\n",
       "1179     Family           Frank Capra        8.600\n",
       "1661   Thriller          Bong Joon Ho        8.600\n",
       "1562    Romance       Roberto Benigni        8.600\n",
       "1454    Mystery      Masaki Kobayashi        8.600\n",
       "1794        War      Steven Spielberg        8.600\n",
       "302   Animation          Roger Allers        8.500\n",
       "1387      Music        Roman Polanski        8.500\n",
       "1357     Horror          Ridley Scott        8.400\n",
       "1361     Horror       Stanley Kubrick        8.400\n",
       "1810    Western     Quentin Tarantino        8.400\n",
       "1398    Musical  Hrishikesh Mukherjee        8.400\n",
       "1638      Sport          Majid Majidi        8.300\n",
       "1278  Film-Noir          Billy Wilder        8.175"
      ]
     },
     "execution_count": 20,
     "metadata": {},
     "output_type": "execute_result"
    }
   ],
   "source": [
    "top_genre_director_ratings = get_top_unique_genre_directors_by('IMDB_Rating')\n",
    "top_genre_director_ratings"
   ]
  },
  {
   "cell_type": "markdown",
   "id": "be74b5392fd0939",
   "metadata": {
    "collapsed": false,
    "jupyter": {
     "outputs_hidden": false
    }
   },
   "source": [
    "Wow, `Christopher Nolan`'s Crime movies have the highest rating of 9.0 in the entire dataset."
   ]
  },
  {
   "cell_type": "markdown",
   "id": "623329ca02d27fe4",
   "metadata": {
    "collapsed": false,
    "jupyter": {
     "outputs_hidden": false
    }
   },
   "source": [
    "### Task 5.2: Counting the Occurrences of Top Directors by Genre"
   ]
  },
  {
   "cell_type": "code",
   "execution_count": 21,
   "id": "1ef30b7d0dd8e713",
   "metadata": {
    "ExecuteTime": {
     "end_time": "2024-06-26T20:21:53.319840100Z",
     "start_time": "2024-06-26T20:21:53.070993400Z"
    },
    "collapsed": false,
    "jupyter": {
     "outputs_hidden": false
    }
   },
   "outputs": [
    {
     "data": {
      "text/plain": [
       "Genre                      Director         \n",
       "Adventure, Fantasy         Peter Jackson        2\n",
       "Comedy, Drama, Musical     Rajkumar Hirani      2\n",
       "Drama, Horror, Sci-Fi      James Whale          2\n",
       "Action, Adventure          Christopher Nolan    1\n",
       "Action, Adventure, Crime   Daniel Monzón        1\n",
       "                                               ..\n",
       "Mystery, Sci-Fi, Thriller  Terry Gilliam        1\n",
       "Mystery, Thriller          Alfred Hitchcock     1\n",
       "                           Christopher Nolan    1\n",
       "Thriller                   Terence Young        1\n",
       "Western                    Sergio Leone         1\n",
       "Name: count, Length: 232, dtype: int64"
      ]
     },
     "execution_count": 21,
     "metadata": {},
     "output_type": "execute_result"
    }
   ],
   "source": [
    "# In case of unique chuk of genres\n",
    "top_directors_counts = top_directors_by_genre.reset_index('Genre')[['Genre', 'Director']].value_counts()\n",
    "top_directors_counts"
   ]
  },
  {
   "cell_type": "markdown",
   "id": "1496478232cc86d0",
   "metadata": {
    "collapsed": false,
    "jupyter": {
     "outputs_hidden": false
    }
   },
   "source": [
    "`Peter Jackson`, `Rajkumar Hirani`, and `James Whale` all were top directors in their genres, each with two occurrences."
   ]
  },
  {
   "cell_type": "code",
   "execution_count": 22,
   "id": "57b581692a1e443b",
   "metadata": {
    "ExecuteTime": {
     "end_time": "2024-06-26T20:21:53.319840100Z",
     "start_time": "2024-06-26T20:21:53.082494600Z"
    },
    "collapsed": false,
    "jupyter": {
     "outputs_hidden": false
    }
   },
   "outputs": [
    {
     "data": {
      "text/plain": [
       "Genre      Director            \n",
       "Action     Peter Jackson           1\n",
       "Adventure  Irvin Kershner          1\n",
       "Animation  Roger Allers            1\n",
       "Biography  Thomas Kail             1\n",
       "Comedy     Bong Joon Ho            1\n",
       "           Roberto Benigni         1\n",
       "Crime      Christopher Nolan       1\n",
       "Drama      Frank Darabont          1\n",
       "Family     Frank Capra             1\n",
       "Fantasy    Irvin Kershner          1\n",
       "Film-Noir  Billy Wilder            1\n",
       "History    Thomas Kail             1\n",
       "Horror     Ridley Scott            1\n",
       "           Stanley Kubrick         1\n",
       "Music      Roman Polanski          1\n",
       "Musical    Hrishikesh Mukherjee    1\n",
       "Mystery    Masaki Kobayashi        1\n",
       "Romance    Roberto Benigni         1\n",
       "Sci-Fi     Lana Wachowski          1\n",
       "Sport      Majid Majidi            1\n",
       "Thriller   Bong Joon Ho            1\n",
       "           Jonathan Demme          1\n",
       "War        Steven Spielberg        1\n",
       "Western    Quentin Tarantino       1\n",
       "Name: count, dtype: int64"
      ]
     },
     "execution_count": 22,
     "metadata": {},
     "output_type": "execute_result"
    }
   ],
   "source": [
    "# In case of unique genres.\n",
    "top_genre_director_ratings.groupby('Genre')['Director'].value_counts()"
   ]
  },
  {
   "cell_type": "markdown",
   "id": "f2c23a5357f008a3",
   "metadata": {
    "collapsed": false,
    "jupyter": {
     "outputs_hidden": false
    }
   },
   "source": [
    "`Irvin Kershner` and  `Roberto Benigni` were top directors for two genres (Fantasy, Adventure) and (Romance, Comedy) respectively.\n",
    " Also, the `Comedy` and `Thriller` genres each had two top directors with the same ratings."
   ]
  },
  {
   "cell_type": "markdown",
   "id": "6f67b5e4bdde3f07",
   "metadata": {
    "collapsed": false,
    "jupyter": {
     "outputs_hidden": false
    }
   },
   "source": [
    "### Task 5.3: Visualizing the Top Directors by Genre"
   ]
  },
  {
   "cell_type": "code",
   "execution_count": 23,
   "id": "8d77c57020ede78f",
   "metadata": {
    "ExecuteTime": {
     "end_time": "2024-06-26T20:21:53.672273Z",
     "start_time": "2024-06-26T20:21:53.097549500Z"
    },
    "collapsed": false,
    "jupyter": {
     "outputs_hidden": false
    }
   },
   "outputs": [
    {
     "data": {
      "image/png": "[encoded data removed]",
      "text/plain": [
       "<Figure size 1200x800 with 1 Axes>"
      ]
     },
     "metadata": {},
     "output_type": "display_data"
    }
   ],
   "source": [
    "# Plotting using seaborn scatter plot\n",
    "plt.figure(figsize=(12, 8))\n",
    "sns.scatterplot(x='Director', y='Genre', size='IMDB_Rating', data=top_genre_director_ratings,\n",
    "                sizes=(50, 200), hue='IMDB_Rating', palette='viridis')\n",
    "plt.xlabel('Director')\n",
    "plt.ylabel('Genre')\n",
    "plt.title('Top Directors by Genre')\n",
    "plt.xticks(rotation=45, ha='right')\n",
    "plt.legend(title='IMDb Rating')\n",
    "plt.tight_layout()\n",
    "plt.show()"
   ]
  },
  {
   "cell_type": "markdown",
   "id": "7eb89d3cf794ea18",
   "metadata": {
    "collapsed": false,
    "jupyter": {
     "outputs_hidden": false
    }
   },
   "source": [
    "## Step 6: Drawing Conclusions"
   ]
  },
  {
   "cell_type": "markdown",
   "id": "90ffb6a9b627ead6",
   "metadata": {
    "collapsed": false,
    "jupyter": {
     "outputs_hidden": false
    }
   },
   "source": [
    "- The dataset contains 21 different movie genres, and 202 unique genre combinations\n",
    "\n",
    "- There doesn't seem to be a major influence of movie `Genre` on its `IMDB_Rating`, as we can see in the case of `horror` (lowest rating) and `war` (highest rating) movies. Therefore, the ratings differences aren't significant enough to conclude a definitive relationship between the two attributes.\n",
    "\n",
    "- Average movie `Runtime` is about 2.3 hours long. The shortest movie is 45 minutes long, while the longest is 5.21 hours.\n",
    "\n",
    "- There seems to be a weak positive relationship between a movie's `Runtime` and `IMDB_Rating`.\n",
    "\n",
    "- `Christopher Nolan`’s `Crime` movies have the highest rating of 9.0 in the entire dataset.\n",
    "\n",
    "- `Irvin Kershner` and  `Roberto Benigni` were top directors for two genres (`Fantasy`, `Adventure`) and (`Romance`, `Comedy`) respectively.\n",
    " Also, the `Comedy` and `Thriller` genres each had two top directors with the same ratings.\n"
   ]
  },
  {
   "cell_type": "markdown",
   "id": "a5c0d9cddc484066",
   "metadata": {
    "collapsed": false,
    "jupyter": {
     "outputs_hidden": false
    }
   },
   "source": [
    "## Step 7: Exploring Additional Questions"
   ]
  },
  {
   "cell_type": "markdown",
   "id": "9c086faf-97b9-48cb-aed4-9be113d68535",
   "metadata": {
    "collapsed": false,
    "jupyter": {
     "outputs_hidden": false
    }
   },
   "source": [
    "### Question 1: How does the movie certificate (G, PG, PG-13, R, etc.) impact the IMDb ratings?"
   ]
  },
  {
   "cell_type": "code",
   "execution_count": 24,
   "id": "446ed721b18be1d3",
   "metadata": {
    "ExecuteTime": {
     "end_time": "2024-06-26T20:21:53.972926900Z",
     "start_time": "2024-06-26T20:21:53.542461200Z"
    },
    "collapsed": false,
    "jupyter": {
     "outputs_hidden": false
    }
   },
   "outputs": [
    {
     "data": {
      "image/png": "[encoded data removed]",
      "text/plain": [
       "<Figure size 1000x600 with 1 Axes>"
      ]
     },
     "metadata": {},
     "output_type": "display_data"
    }
   ],
   "source": [
    "## bar chart might be preferable here but the difference in the rating isn't obvious as much as in the scatter so i used it\n",
    "cert_group = imdb_movies.groupby('Certificate', dropna='True')['IMDB_Rating'].mean()\n",
    "\n",
    "\n",
    "plt.figure(figsize=(10,6))\n",
    "plt.scatter(cert_group.index, cert_group.values)\n",
    "plt.xlabel('Certificate')\n",
    "plt.ylabel('AVG IMDB Rating')\n",
    "plt.title(\"Average IMDB Rating Vs. Certificate \")\n",
    "plt.xticks(rotation=45)\n",
    "plt.show()"
   ]
  },
  {
   "cell_type": "markdown",
   "id": "fd23ca2f8df89c35",
   "metadata": {
    "collapsed": false,
    "jupyter": {
     "outputs_hidden": false
    }
   },
   "source": [
    "There seems to be a slight influence of a movie's certification over its rating. For example, PG-13 movies had 7.8 rating while TV-14 had 8.3 which is a bit better. However, most of the certificates had rating ranged between [7.9, 8.1], so a correlation isn't significant nor obvious. "
   ]
  },
  {
   "cell_type": "code",
   "execution_count": 25,
   "id": "c01fff51-fb35-4bba-b9ae-7144d5025b61",
   "metadata": {
    "ExecuteTime": {
     "end_time": "2024-06-26T20:21:53.984662100Z",
     "start_time": "2024-06-26T20:21:53.761156600Z"
    },
    "collapsed": false,
    "jupyter": {
     "outputs_hidden": false
    }
   },
   "outputs": [
    {
     "data": {
      "image/png": "[encoded data removed]",
      "text/plain": [
       "<Figure size 640x480 with 1 Axes>"
      ]
     },
     "metadata": {},
     "output_type": "display_data"
    }
   ],
   "source": [
    "rated = imdb_movies['Certificate'] != 'Unrated'\n",
    "\n",
    "certified_movies_mean_rating = imdb_movies[rated]['IMDB_Rating'].mean()\n",
    "uncertified_movies_mean_rating = imdb_movies[~rated]['IMDB_Rating'].mean()\n",
    "\n",
    "\n",
    "plt.bar('Certified', certified_movies_mean_rating, color='blue', label='Certified movies')\n",
    "plt.bar('Uncertified', uncertified_movies_mean_rating, color='red', label='Unertified movies')\n",
    "\n",
    "plt.xlabel('Certificate Status')\n",
    "plt.ylabel('Mean IMDb Rating')\n",
    "plt.title('Mean IMDb Rating for certified Vs. uncertified movies')\n",
    "plt.legend()\n",
    "plt.show()\n"
   ]
  },
  {
   "cell_type": "markdown",
   "id": "e391b83d7b7461d7",
   "metadata": {
    "collapsed": false,
    "jupyter": {
     "outputs_hidden": false
    }
   },
   "source": [
    "Even when comparing the mean rating of certified and uncertified movies, there isn't a clear difference between the two."
   ]
  },
  {
   "cell_type": "markdown",
   "id": "f35deb10bb161180",
   "metadata": {
    "collapsed": false,
    "jupyter": {
     "outputs_hidden": false
    }
   },
   "source": [
    "### Question 2: What is the relationship between the Metascore and IMDb ratings of movies?"
   ]
  },
  {
   "cell_type": "code",
   "execution_count": 26,
   "id": "64f12c1b8c52b2a2",
   "metadata": {
    "ExecuteTime": {
     "end_time": "2024-06-26T20:21:54.491223400Z",
     "start_time": "2024-06-26T20:21:53.887381400Z"
    },
    "collapsed": false,
    "jupyter": {
     "outputs_hidden": false
    }
   },
   "outputs": [
    {
     "data": {
      "image/png": "[encoded data removed]",
      "text/plain": [
       "<Figure size 1000x600 with 3 Axes>"
      ]
     },
     "metadata": {},
     "output_type": "display_data"
    }
   ],
   "source": [
    "# filter for rows with known meta score.\n",
    "movies_with_metascore = imdb_movies[imdb_movies['Meta_score'].notnull()][['Meta_score', 'IMDB_Rating']]\n",
    "\n",
    "\n",
    "plt.figure(figsize=(10, 6))\n",
    "\n",
    "plt.subplot(1, 2, 1)\n",
    "plt.scatter(imdb_movies['Meta_score'], imdb_movies['IMDB_Rating'], alpha=0.5)\n",
    "plt.title('Meta Score Vs. IMDb Rating')\n",
    "plt.xlabel('Meta Score')\n",
    "plt.ylabel('IMDB Rating')\n",
    "\n",
    "\n",
    "correlation_coefficient = movies_with_metascore['Meta_score'].corr(imdb_movies['IMDB_Rating'])\n",
    "correlation_df = pd.DataFrame(data=[[correlation_coefficient]], columns=['Correlation Coefficient'])\n",
    "\n",
    "plt.subplot(1, 2, 2)\n",
    "sns.heatmap(correlation_df, annot=True, cmap='coolwarm', cbar=True, vmin=-1, vmax=1)\n",
    "plt.title('Correlation Between Meta Score and IMDb Rating')\n",
    "plt.xlabel('Meta Score')\n",
    "plt.ylabel('IMDB Rating')\n",
    "plt.tight_layout()\n",
    "plt.show()"
   ]
  },
  {
   "cell_type": "markdown",
   "id": "17ec941845cf91c8",
   "metadata": {
    "collapsed": false,
    "jupyter": {
     "outputs_hidden": false
    }
   },
   "source": [
    "There seems to be a weak positive linear relationship between Meta score and the movie's rating."
   ]
  },
  {
   "cell_type": "markdown",
   "id": "3b121d6c0aa76fe5",
   "metadata": {
    "collapsed": false,
    "jupyter": {
     "outputs_hidden": false
    }
   },
   "source": [
    "### Question 3: Are there any trends in the gross earnings of movies across different genres?"
   ]
  },
  {
   "cell_type": "code",
   "execution_count": 27,
   "id": "f055744e98ea4fb9",
   "metadata": {
    "ExecuteTime": {
     "end_time": "2024-06-26T20:21:54.772081100Z",
     "start_time": "2024-06-26T20:21:54.488944300Z"
    },
    "collapsed": false,
    "jupyter": {
     "outputs_hidden": false
    }
   },
   "outputs": [
    {
     "data": {
      "image/png": "[encoded data removed]",
      "text/plain": [
       "<Figure size 1200x600 with 1 Axes>"
      ]
     },
     "metadata": {},
     "output_type": "display_data"
    }
   ],
   "source": [
    "# Calculate the mean gross earnings for each genre\n",
    "avg_genre_grosses = genre_groups['Gross'].mean()\n",
    "\n",
    "# Plotting\n",
    "plt.figure(figsize=(12, 6))\n",
    "avg_genre_grosses.plot(kind='bar', rot=45)\n",
    "plt.xlabel('Genre')\n",
    "plt.ylabel('Mean Gross Earnings (hundred million dollars)')\n",
    "plt.title('Mean Gross Earnings of Movies Across Different Genres')\n",
    "plt.show()"
   ]
  },
  {
   "cell_type": "markdown",
   "id": "45876c6bc1e78785",
   "metadata": {
    "collapsed": false,
    "jupyter": {
     "outputs_hidden": false
    }
   },
   "source": [
    "### Extra on Top Directors."
   ]
  },
  {
   "cell_type": "markdown",
   "id": "8c871815e8fd5adf",
   "metadata": {
    "collapsed": false,
    "jupyter": {
     "outputs_hidden": false
    }
   },
   "source": [
    "### Question 4: Top Director by unique genre and meta score"
   ]
  },
  {
   "cell_type": "code",
   "execution_count": 28,
   "id": "43638354c843566",
   "metadata": {
    "ExecuteTime": {
     "end_time": "2024-06-26T20:21:54.899628800Z",
     "start_time": "2024-06-26T20:21:54.775094700Z"
    },
    "collapsed": false,
    "jupyter": {
     "outputs_hidden": false
    }
   },
   "outputs": [
    {
     "data": {
      "text/html": [
       "<div>\n",
       "<style scoped>\n",
       "    .dataframe tbody tr th:only-of-type {\n",
       "        vertical-align: middle;\n",
       "    }\n",
       "\n",
       "    .dataframe tbody tr th {\n",
       "        vertical-align: top;\n",
       "    }\n",
       "\n",
       "    .dataframe thead th {\n",
       "        text-align: right;\n",
       "    }\n",
       "</style>\n",
       "<table border=\"1\" class=\"dataframe\">\n",
       "  <thead>\n",
       "    <tr style=\"text-align: right;\">\n",
       "      <th></th>\n",
       "      <th>Genre</th>\n",
       "      <th>Director</th>\n",
       "      <th>Meta_score</th>\n",
       "    </tr>\n",
       "  </thead>\n",
       "  <tbody>\n",
       "    <tr>\n",
       "      <th>334</th>\n",
       "      <td>Biography</td>\n",
       "      <td>David Lean</td>\n",
       "      <td>100.0</td>\n",
       "    </tr>\n",
       "    <tr>\n",
       "      <th>997</th>\n",
       "      <td>Drama</td>\n",
       "      <td>Michael Curtiz</td>\n",
       "      <td>100.0</td>\n",
       "    </tr>\n",
       "    <tr>\n",
       "      <th>757</th>\n",
       "      <td>Drama</td>\n",
       "      <td>Alexander Mackendrick</td>\n",
       "      <td>100.0</td>\n",
       "    </tr>\n",
       "    <tr>\n",
       "      <th>1464</th>\n",
       "      <td>Mystery</td>\n",
       "      <td>Orson Welles</td>\n",
       "      <td>100.0</td>\n",
       "    </tr>\n",
       "    <tr>\n",
       "      <th>1784</th>\n",
       "      <td>War</td>\n",
       "      <td>Michael Curtiz</td>\n",
       "      <td>100.0</td>\n",
       "    </tr>\n",
       "    <tr>\n",
       "      <th>1276</th>\n",
       "      <td>Film-Noir</td>\n",
       "      <td>Alexander Mackendrick</td>\n",
       "      <td>100.0</td>\n",
       "    </tr>\n",
       "    <tr>\n",
       "      <th>602</th>\n",
       "      <td>Crime</td>\n",
       "      <td>Charles Laughton</td>\n",
       "      <td>99.0</td>\n",
       "    </tr>\n",
       "    <tr>\n",
       "      <th>1408</th>\n",
       "      <td>Musical</td>\n",
       "      <td>Stanley Donen</td>\n",
       "      <td>99.0</td>\n",
       "    </tr>\n",
       "    <tr>\n",
       "      <th>688</th>\n",
       "      <td>Crime</td>\n",
       "      <td>Orson Welles</td>\n",
       "      <td>99.0</td>\n",
       "    </tr>\n",
       "    <tr>\n",
       "      <th>1544</th>\n",
       "      <td>Romance</td>\n",
       "      <td>Michael Curtiz</td>\n",
       "      <td>98.5</td>\n",
       "    </tr>\n",
       "    <tr>\n",
       "      <th>1806</th>\n",
       "      <td>Western</td>\n",
       "      <td>John Huston</td>\n",
       "      <td>98.0</td>\n",
       "    </tr>\n",
       "    <tr>\n",
       "      <th>1230</th>\n",
       "      <td>Fantasy</td>\n",
       "      <td>Guillermo del Toro</td>\n",
       "      <td>98.0</td>\n",
       "    </tr>\n",
       "    <tr>\n",
       "      <th>1598</th>\n",
       "      <td>Sci-Fi</td>\n",
       "      <td>Fritz Lang</td>\n",
       "      <td>98.0</td>\n",
       "    </tr>\n",
       "    <tr>\n",
       "      <th>136</th>\n",
       "      <td>Adventure</td>\n",
       "      <td>Akira Kurosawa</td>\n",
       "      <td>98.0</td>\n",
       "    </tr>\n",
       "    <tr>\n",
       "      <th>141</th>\n",
       "      <td>Adventure</td>\n",
       "      <td>Alfred Hitchcock</td>\n",
       "      <td>98.0</td>\n",
       "    </tr>\n",
       "    <tr>\n",
       "      <th>1366</th>\n",
       "      <td>Music</td>\n",
       "      <td>Billy Wilder</td>\n",
       "      <td>98.0</td>\n",
       "    </tr>\n",
       "    <tr>\n",
       "      <th>1738</th>\n",
       "      <td>Thriller</td>\n",
       "      <td>Sergei M. Eisenstein</td>\n",
       "      <td>97.0</td>\n",
       "    </tr>\n",
       "    <tr>\n",
       "      <th>1335</th>\n",
       "      <td>History</td>\n",
       "      <td>Victor Fleming</td>\n",
       "      <td>97.0</td>\n",
       "    </tr>\n",
       "    <tr>\n",
       "      <th>1665</th>\n",
       "      <td>Thriller</td>\n",
       "      <td>Carol Reed</td>\n",
       "      <td>97.0</td>\n",
       "    </tr>\n",
       "    <tr>\n",
       "      <th>113</th>\n",
       "      <td>Action</td>\n",
       "      <td>Sam Peckinpah</td>\n",
       "      <td>97.0</td>\n",
       "    </tr>\n",
       "    <tr>\n",
       "      <th>88</th>\n",
       "      <td>Action</td>\n",
       "      <td>Michael Curtiz</td>\n",
       "      <td>97.0</td>\n",
       "    </tr>\n",
       "    <tr>\n",
       "      <th>2</th>\n",
       "      <td>Action</td>\n",
       "      <td>Akira Kurosawa</td>\n",
       "      <td>97.0</td>\n",
       "    </tr>\n",
       "    <tr>\n",
       "      <th>554</th>\n",
       "      <td>Comedy</td>\n",
       "      <td>Stanley Kubrick</td>\n",
       "      <td>97.0</td>\n",
       "    </tr>\n",
       "    <tr>\n",
       "      <th>1709</th>\n",
       "      <td>Thriller</td>\n",
       "      <td>Jules Dassin</td>\n",
       "      <td>97.0</td>\n",
       "    </tr>\n",
       "    <tr>\n",
       "      <th>1324</th>\n",
       "      <td>History</td>\n",
       "      <td>Sergei M. Eisenstein</td>\n",
       "      <td>97.0</td>\n",
       "    </tr>\n",
       "    <tr>\n",
       "      <th>282</th>\n",
       "      <td>Animation</td>\n",
       "      <td>James Algar</td>\n",
       "      <td>96.0</td>\n",
       "    </tr>\n",
       "    <tr>\n",
       "      <th>1174</th>\n",
       "      <td>Family</td>\n",
       "      <td>Charles Chaplin</td>\n",
       "      <td>96.0</td>\n",
       "    </tr>\n",
       "    <tr>\n",
       "      <th>1188</th>\n",
       "      <td>Family</td>\n",
       "      <td>James Algar</td>\n",
       "      <td>96.0</td>\n",
       "    </tr>\n",
       "    <tr>\n",
       "      <th>1339</th>\n",
       "      <td>Horror</td>\n",
       "      <td>Alfred Hitchcock</td>\n",
       "      <td>93.5</td>\n",
       "    </tr>\n",
       "    <tr>\n",
       "      <th>1360</th>\n",
       "      <td>Horror</td>\n",
       "      <td>Roman Polanski</td>\n",
       "      <td>93.5</td>\n",
       "    </tr>\n",
       "    <tr>\n",
       "      <th>1643</th>\n",
       "      <td>Sport</td>\n",
       "      <td>Robert Rossen</td>\n",
       "      <td>90.0</td>\n",
       "    </tr>\n",
       "  </tbody>\n",
       "</table>\n",
       "</div>"
      ],
      "text/plain": [
       "          Genre               Director  Meta_score\n",
       "334   Biography             David Lean       100.0\n",
       "997       Drama         Michael Curtiz       100.0\n",
       "757       Drama  Alexander Mackendrick       100.0\n",
       "1464    Mystery           Orson Welles       100.0\n",
       "1784        War         Michael Curtiz       100.0\n",
       "1276  Film-Noir  Alexander Mackendrick       100.0\n",
       "602       Crime       Charles Laughton        99.0\n",
       "1408    Musical          Stanley Donen        99.0\n",
       "688       Crime           Orson Welles        99.0\n",
       "1544    Romance         Michael Curtiz        98.5\n",
       "1806    Western            John Huston        98.0\n",
       "1230    Fantasy     Guillermo del Toro        98.0\n",
       "1598     Sci-Fi             Fritz Lang        98.0\n",
       "136   Adventure         Akira Kurosawa        98.0\n",
       "141   Adventure       Alfred Hitchcock        98.0\n",
       "1366      Music           Billy Wilder        98.0\n",
       "1738   Thriller   Sergei M. Eisenstein        97.0\n",
       "1335    History         Victor Fleming        97.0\n",
       "1665   Thriller             Carol Reed        97.0\n",
       "113      Action          Sam Peckinpah        97.0\n",
       "88       Action         Michael Curtiz        97.0\n",
       "2        Action         Akira Kurosawa        97.0\n",
       "554      Comedy        Stanley Kubrick        97.0\n",
       "1709   Thriller           Jules Dassin        97.0\n",
       "1324    History   Sergei M. Eisenstein        97.0\n",
       "282   Animation            James Algar        96.0\n",
       "1174     Family        Charles Chaplin        96.0\n",
       "1188     Family            James Algar        96.0\n",
       "1339     Horror       Alfred Hitchcock        93.5\n",
       "1360     Horror         Roman Polanski        93.5\n",
       "1643      Sport          Robert Rossen        90.0"
      ]
     },
     "execution_count": 28,
     "metadata": {},
     "output_type": "execute_result"
    }
   ],
   "source": [
    "get_top_unique_genre_directors_by('Meta_score')"
   ]
  },
  {
   "cell_type": "markdown",
   "id": "be9a83fae922f23a",
   "metadata": {
    "collapsed": false,
    "jupyter": {
     "outputs_hidden": false
    }
   },
   "source": [
    "Nice, There are 4 different directors who directed movies with meta score of 100! But look at `Alexander Mackendrick` and `Michael Curtiz` each directing 2 movies with that score!"
   ]
  },
  {
   "cell_type": "markdown",
   "id": "5e6dd7a3b26ce2d3",
   "metadata": {
    "collapsed": false,
    "jupyter": {
     "outputs_hidden": false
    }
   },
   "source": [
    "### Question 5: Top Director by genre and meta score"
   ]
  },
  {
   "cell_type": "code",
   "execution_count": 29,
   "id": "6dfadeab09307587",
   "metadata": {
    "ExecuteTime": {
     "end_time": "2024-06-26T20:21:55.075027900Z",
     "start_time": "2024-06-26T20:21:54.816824600Z"
    },
    "collapsed": false,
    "jupyter": {
     "outputs_hidden": false
    }
   },
   "outputs": [
    {
     "data": {
      "text/html": [
       "<div>\n",
       "<style scoped>\n",
       "    .dataframe tbody tr th:only-of-type {\n",
       "        vertical-align: middle;\n",
       "    }\n",
       "\n",
       "    .dataframe tbody tr th {\n",
       "        vertical-align: top;\n",
       "    }\n",
       "\n",
       "    .dataframe thead th {\n",
       "        text-align: right;\n",
       "    }\n",
       "</style>\n",
       "<table border=\"1\" class=\"dataframe\">\n",
       "  <thead>\n",
       "    <tr style=\"text-align: right;\">\n",
       "      <th></th>\n",
       "      <th></th>\n",
       "      <th>Director</th>\n",
       "      <th>Meta_score</th>\n",
       "      <th>Series_Title</th>\n",
       "    </tr>\n",
       "    <tr>\n",
       "      <th>Genre</th>\n",
       "      <th></th>\n",
       "      <th></th>\n",
       "      <th></th>\n",
       "      <th></th>\n",
       "    </tr>\n",
       "  </thead>\n",
       "  <tbody>\n",
       "    <tr>\n",
       "      <th>Adventure, Biography, Drama</th>\n",
       "      <th>116</th>\n",
       "      <td>David Lean</td>\n",
       "      <td>100.0</td>\n",
       "      <td>Lawrence of Arabia</td>\n",
       "    </tr>\n",
       "    <tr>\n",
       "      <th>Drama</th>\n",
       "      <th>491</th>\n",
       "      <td>Richard Linklater</td>\n",
       "      <td>100.0</td>\n",
       "      <td>Boyhood</td>\n",
       "    </tr>\n",
       "    <tr>\n",
       "      <th>Drama, Film-Noir</th>\n",
       "      <th>440</th>\n",
       "      <td>Alexander Mackendrick</td>\n",
       "      <td>100.0</td>\n",
       "      <td>Sweet Smell of Success</td>\n",
       "    </tr>\n",
       "    <tr>\n",
       "      <th>Drama, Film-Noir, Romance</th>\n",
       "      <th>559</th>\n",
       "      <td>Alfred Hitchcock</td>\n",
       "      <td>100.0</td>\n",
       "      <td>Notorious</td>\n",
       "    </tr>\n",
       "    <tr>\n",
       "      <th>Drama</th>\n",
       "      <th>274</th>\n",
       "      <td>Ingmar Bergman</td>\n",
       "      <td>100.0</td>\n",
       "      <td>Fanny och Alexander</td>\n",
       "    </tr>\n",
       "    <tr>\n",
       "      <th>...</th>\n",
       "      <th>...</th>\n",
       "      <td>...</td>\n",
       "      <td>...</td>\n",
       "      <td>...</td>\n",
       "    </tr>\n",
       "    <tr>\n",
       "      <th>Action, Adventure, Mystery</th>\n",
       "      <th>914</th>\n",
       "      <td>Guy Ritchie</td>\n",
       "      <td>57.0</td>\n",
       "      <td>Sherlock Holmes</td>\n",
       "    </tr>\n",
       "    <tr>\n",
       "      <th>Horror, Mystery, Sci-Fi</th>\n",
       "      <th>271</th>\n",
       "      <td>John Carpenter</td>\n",
       "      <td>57.0</td>\n",
       "      <td>The Thing</td>\n",
       "    </tr>\n",
       "    <tr>\n",
       "      <th>Action, Drama</th>\n",
       "      <th>784</th>\n",
       "      <td>Edward Zwick</td>\n",
       "      <td>55.0</td>\n",
       "      <td>The Last Samurai</td>\n",
       "    </tr>\n",
       "    <tr>\n",
       "      <th>Comedy, Drama, Musical</th>\n",
       "      <th>374</th>\n",
       "      <td>Nikkhil Advani</td>\n",
       "      <td>54.0</td>\n",
       "      <td>Kal Ho Naa Ho</td>\n",
       "    </tr>\n",
       "    <tr>\n",
       "      <th>Adventure, Comedy, War</th>\n",
       "      <th>991</th>\n",
       "      <td>Brian G. Hutton</td>\n",
       "      <td>50.0</td>\n",
       "      <td>Kelly's Heroes</td>\n",
       "    </tr>\n",
       "  </tbody>\n",
       "</table>\n",
       "<p>191 rows × 3 columns</p>\n",
       "</div>"
      ],
      "text/plain": [
       "                                              Director  Meta_score  \\\n",
       "Genre                                                                \n",
       "Adventure, Biography, Drama 116             David Lean       100.0   \n",
       "Drama                       491      Richard Linklater       100.0   \n",
       "Drama, Film-Noir            440  Alexander Mackendrick       100.0   \n",
       "Drama, Film-Noir, Romance   559       Alfred Hitchcock       100.0   \n",
       "Drama                       274         Ingmar Bergman       100.0   \n",
       "...                                                ...         ...   \n",
       "Action, Adventure, Mystery  914            Guy Ritchie        57.0   \n",
       "Horror, Mystery, Sci-Fi     271         John Carpenter        57.0   \n",
       "Action, Drama               784           Edward Zwick        55.0   \n",
       "Comedy, Drama, Musical      374         Nikkhil Advani        54.0   \n",
       "Adventure, Comedy, War      991        Brian G. Hutton        50.0   \n",
       "\n",
       "                                           Series_Title  \n",
       "Genre                                                    \n",
       "Adventure, Biography, Drama 116      Lawrence of Arabia  \n",
       "Drama                       491                 Boyhood  \n",
       "Drama, Film-Noir            440  Sweet Smell of Success  \n",
       "Drama, Film-Noir, Romance   559               Notorious  \n",
       "Drama                       274     Fanny och Alexander  \n",
       "...                                                 ...  \n",
       "Action, Adventure, Mystery  914         Sherlock Holmes  \n",
       "Horror, Mystery, Sci-Fi     271               The Thing  \n",
       "Action, Drama               784        The Last Samurai  \n",
       "Comedy, Drama, Musical      374           Kal Ho Naa Ho  \n",
       "Adventure, Comedy, War      991          Kelly's Heroes  \n",
       "\n",
       "[191 rows x 3 columns]"
      ]
     },
     "execution_count": 29,
     "metadata": {},
     "output_type": "execute_result"
    }
   ],
   "source": [
    "get_top_directors_by('Meta_score')"
   ]
  },
  {
   "cell_type": "markdown",
   "id": "902e51fea23df7ff",
   "metadata": {
    "collapsed": false,
    "jupyter": {
     "outputs_hidden": false
    }
   },
   "source": [
    "What a tough decision to make.. There are 10 different directors who directed movies with meta score of 100! But look at `Alfred Hitchcock` directing 3 movies with that score!"
   ]
  },
  {
   "cell_type": "markdown",
   "id": "8656aab468b5208f",
   "metadata": {
    "collapsed": false,
    "jupyter": {
     "outputs_hidden": false
    }
   },
   "source": [
    "###  Question 5: Top Director by unique genre and gross"
   ]
  },
  {
   "cell_type": "code",
   "execution_count": 30,
   "id": "605ba82969a95e81",
   "metadata": {
    "ExecuteTime": {
     "end_time": "2024-06-26T20:21:55.076003800Z",
     "start_time": "2024-06-26T20:21:54.993753600Z"
    },
    "collapsed": false,
    "jupyter": {
     "outputs_hidden": false
    }
   },
   "outputs": [
    {
     "data": {
      "text/html": [
       "<div>\n",
       "<style scoped>\n",
       "    .dataframe tbody tr th:only-of-type {\n",
       "        vertical-align: middle;\n",
       "    }\n",
       "\n",
       "    .dataframe tbody tr th {\n",
       "        vertical-align: top;\n",
       "    }\n",
       "\n",
       "    .dataframe thead th {\n",
       "        text-align: right;\n",
       "    }\n",
       "</style>\n",
       "<table border=\"1\" class=\"dataframe\">\n",
       "  <thead>\n",
       "    <tr style=\"text-align: right;\">\n",
       "      <th></th>\n",
       "      <th>Genre</th>\n",
       "      <th>Director</th>\n",
       "      <th>Gross</th>\n",
       "    </tr>\n",
       "  </thead>\n",
       "  <tbody>\n",
       "    <tr>\n",
       "      <th>773</th>\n",
       "      <td>Drama</td>\n",
       "      <td>Anthony Russo</td>\n",
       "      <td>8.583730e+08</td>\n",
       "    </tr>\n",
       "    <tr>\n",
       "      <th>1240</th>\n",
       "      <td>Fantasy</td>\n",
       "      <td>James Cameron</td>\n",
       "      <td>7.605076e+08</td>\n",
       "    </tr>\n",
       "    <tr>\n",
       "      <th>1525</th>\n",
       "      <td>Romance</td>\n",
       "      <td>James Cameron</td>\n",
       "      <td>6.593254e+08</td>\n",
       "    </tr>\n",
       "    <tr>\n",
       "      <th>145</th>\n",
       "      <td>Adventure</td>\n",
       "      <td>Anthony Russo</td>\n",
       "      <td>5.512599e+08</td>\n",
       "    </tr>\n",
       "    <tr>\n",
       "      <th>8</th>\n",
       "      <td>Action</td>\n",
       "      <td>Anthony Russo</td>\n",
       "      <td>5.512599e+08</td>\n",
       "    </tr>\n",
       "    <tr>\n",
       "      <th>603</th>\n",
       "      <td>Crime</td>\n",
       "      <td>Christopher Nolan</td>\n",
       "      <td>5.348584e+08</td>\n",
       "    </tr>\n",
       "    <tr>\n",
       "      <th>1599</th>\n",
       "      <td>Sci-Fi</td>\n",
       "      <td>Gareth Edwards</td>\n",
       "      <td>5.321773e+08</td>\n",
       "    </tr>\n",
       "    <tr>\n",
       "      <th>1209</th>\n",
       "      <td>Family</td>\n",
       "      <td>Steven Spielberg</td>\n",
       "      <td>4.351106e+08</td>\n",
       "    </tr>\n",
       "    <tr>\n",
       "      <th>285</th>\n",
       "      <td>Animation</td>\n",
       "      <td>Josh Cooley</td>\n",
       "      <td>4.340380e+08</td>\n",
       "    </tr>\n",
       "    <tr>\n",
       "      <th>488</th>\n",
       "      <td>Comedy</td>\n",
       "      <td>Josh Cooley</td>\n",
       "      <td>4.340380e+08</td>\n",
       "    </tr>\n",
       "    <tr>\n",
       "      <th>1746</th>\n",
       "      <td>Thriller</td>\n",
       "      <td>Todd Phillips</td>\n",
       "      <td>3.354513e+08</td>\n",
       "    </tr>\n",
       "    <tr>\n",
       "      <th>1452</th>\n",
       "      <td>Mystery</td>\n",
       "      <td>M. Night Shyamalan</td>\n",
       "      <td>2.935063e+08</td>\n",
       "    </tr>\n",
       "    <tr>\n",
       "      <th>355</th>\n",
       "      <td>Biography</td>\n",
       "      <td>John Lee Hancock</td>\n",
       "      <td>2.559595e+08</td>\n",
       "    </tr>\n",
       "    <tr>\n",
       "      <th>1637</th>\n",
       "      <td>Sport</td>\n",
       "      <td>John Lee Hancock</td>\n",
       "      <td>2.559595e+08</td>\n",
       "    </tr>\n",
       "    <tr>\n",
       "      <th>1363</th>\n",
       "      <td>Horror</td>\n",
       "      <td>William Friedkin</td>\n",
       "      <td>2.329061e+08</td>\n",
       "    </tr>\n",
       "    <tr>\n",
       "      <th>1794</th>\n",
       "      <td>War</td>\n",
       "      <td>Steven Spielberg</td>\n",
       "      <td>2.165409e+08</td>\n",
       "    </tr>\n",
       "    <tr>\n",
       "      <th>1369</th>\n",
       "      <td>Music</td>\n",
       "      <td>Bryan Singer</td>\n",
       "      <td>2.164280e+08</td>\n",
       "    </tr>\n",
       "    <tr>\n",
       "      <th>1335</th>\n",
       "      <td>History</td>\n",
       "      <td>Victor Fleming</td>\n",
       "      <td>1.986765e+08</td>\n",
       "    </tr>\n",
       "    <tr>\n",
       "      <th>1808</th>\n",
       "      <td>Western</td>\n",
       "      <td>Kevin Costner</td>\n",
       "      <td>1.842088e+08</td>\n",
       "    </tr>\n",
       "    <tr>\n",
       "      <th>1404</th>\n",
       "      <td>Musical</td>\n",
       "      <td>Norman Jewison</td>\n",
       "      <td>8.050000e+07</td>\n",
       "    </tr>\n",
       "    <tr>\n",
       "      <th>1277</th>\n",
       "      <td>Film-Noir</td>\n",
       "      <td>Alfred Hitchcock</td>\n",
       "      <td>9.047000e+06</td>\n",
       "    </tr>\n",
       "  </tbody>\n",
       "</table>\n",
       "</div>"
      ],
      "text/plain": [
       "          Genre            Director         Gross\n",
       "773       Drama       Anthony Russo  8.583730e+08\n",
       "1240    Fantasy       James Cameron  7.605076e+08\n",
       "1525    Romance       James Cameron  6.593254e+08\n",
       "145   Adventure       Anthony Russo  5.512599e+08\n",
       "8        Action       Anthony Russo  5.512599e+08\n",
       "603       Crime   Christopher Nolan  5.348584e+08\n",
       "1599     Sci-Fi      Gareth Edwards  5.321773e+08\n",
       "1209     Family    Steven Spielberg  4.351106e+08\n",
       "285   Animation         Josh Cooley  4.340380e+08\n",
       "488      Comedy         Josh Cooley  4.340380e+08\n",
       "1746   Thriller       Todd Phillips  3.354513e+08\n",
       "1452    Mystery  M. Night Shyamalan  2.935063e+08\n",
       "355   Biography    John Lee Hancock  2.559595e+08\n",
       "1637      Sport    John Lee Hancock  2.559595e+08\n",
       "1363     Horror    William Friedkin  2.329061e+08\n",
       "1794        War    Steven Spielberg  2.165409e+08\n",
       "1369      Music        Bryan Singer  2.164280e+08\n",
       "1335    History      Victor Fleming  1.986765e+08\n",
       "1808    Western       Kevin Costner  1.842088e+08\n",
       "1404    Musical      Norman Jewison  8.050000e+07\n",
       "1277  Film-Noir    Alfred Hitchcock  9.047000e+06"
      ]
     },
     "execution_count": 30,
     "metadata": {},
     "output_type": "execute_result"
    }
   ],
   "source": [
    "get_top_unique_genre_directors_by('Gross')"
   ]
  },
  {
   "cell_type": "markdown",
   "id": "733e292695c06c5",
   "metadata": {
    "collapsed": false,
    "jupyter": {
     "outputs_hidden": false
    }
   },
   "source": [
    "`Anthony Russo` is the top director in `Drama` genre with the highest movie gross in the entire dataset with a gross over 858 million dollars!"
   ]
  },
  {
   "cell_type": "markdown",
   "id": "28f5b9a9e13d632a",
   "metadata": {
    "collapsed": false,
    "jupyter": {
     "outputs_hidden": false
    }
   },
   "source": [
    "### Question 6: Top Director by genre and gross"
   ]
  },
  {
   "cell_type": "code",
   "execution_count": 31,
   "id": "7ec4ce7b62b00a39",
   "metadata": {
    "ExecuteTime": {
     "end_time": "2024-06-26T20:21:55.329207100Z",
     "start_time": "2024-06-26T20:21:55.035440600Z"
    },
    "collapsed": false,
    "jupyter": {
     "outputs_hidden": false
    }
   },
   "outputs": [
    {
     "data": {
      "text/html": [
       "<div>\n",
       "<style scoped>\n",
       "    .dataframe tbody tr th:only-of-type {\n",
       "        vertical-align: middle;\n",
       "    }\n",
       "\n",
       "    .dataframe tbody tr th {\n",
       "        vertical-align: top;\n",
       "    }\n",
       "\n",
       "    .dataframe thead th {\n",
       "        text-align: right;\n",
       "    }\n",
       "</style>\n",
       "<table border=\"1\" class=\"dataframe\">\n",
       "  <thead>\n",
       "    <tr style=\"text-align: right;\">\n",
       "      <th></th>\n",
       "      <th></th>\n",
       "      <th>Director</th>\n",
       "      <th>Gross</th>\n",
       "      <th>Series_Title</th>\n",
       "    </tr>\n",
       "    <tr>\n",
       "      <th>Genre</th>\n",
       "      <th></th>\n",
       "      <th></th>\n",
       "      <th></th>\n",
       "      <th></th>\n",
       "    </tr>\n",
       "  </thead>\n",
       "  <tbody>\n",
       "    <tr>\n",
       "      <th>Action, Adventure, Sci-Fi</th>\n",
       "      <th>477</th>\n",
       "      <td>J.J. Abrams</td>\n",
       "      <td>936662225.0</td>\n",
       "      <td>Star Wars: Episode VII - The Force Awakens</td>\n",
       "    </tr>\n",
       "    <tr>\n",
       "      <th>Action, Adventure, Drama</th>\n",
       "      <th>59</th>\n",
       "      <td>Anthony Russo</td>\n",
       "      <td>858373000.0</td>\n",
       "      <td>Avengers: Endgame</td>\n",
       "    </tr>\n",
       "    <tr>\n",
       "      <th>Action, Adventure, Fantasy</th>\n",
       "      <th>623</th>\n",
       "      <td>James Cameron</td>\n",
       "      <td>760507625.0</td>\n",
       "      <td>Avatar</td>\n",
       "    </tr>\n",
       "    <tr>\n",
       "      <th>Drama, Romance</th>\n",
       "      <th>652</th>\n",
       "      <td>James Cameron</td>\n",
       "      <td>659325379.0</td>\n",
       "      <td>Titanic</td>\n",
       "    </tr>\n",
       "    <tr>\n",
       "      <th>Animation, Action, Adventure</th>\n",
       "      <th>891</th>\n",
       "      <td>Brad Bird</td>\n",
       "      <td>608581744.0</td>\n",
       "      <td>Incredibles 2</td>\n",
       "    </tr>\n",
       "    <tr>\n",
       "      <th>...</th>\n",
       "      <th>...</th>\n",
       "      <td>...</td>\n",
       "      <td>...</td>\n",
       "      <td>...</td>\n",
       "    </tr>\n",
       "    <tr>\n",
       "      <th>Comedy, Music</th>\n",
       "      <th>530</th>\n",
       "      <td>Rob Reiner</td>\n",
       "      <td>188751.0</td>\n",
       "      <td>This Is Spinal Tap</td>\n",
       "    </tr>\n",
       "    <tr>\n",
       "      <th>Animation, Action, Fantasy</th>\n",
       "      <th>796</th>\n",
       "      <td>Yoshiaki Kawajiri</td>\n",
       "      <td>151086.0</td>\n",
       "      <td>Vampire Hunter D: Bloodlust</td>\n",
       "    </tr>\n",
       "    <tr>\n",
       "      <th>Adventure, Drama, Musical</th>\n",
       "      <th>247</th>\n",
       "      <td>Ashutosh Gowariker</td>\n",
       "      <td>70147.0</td>\n",
       "      <td>Lagaan: Once Upon a Time in India</td>\n",
       "    </tr>\n",
       "    <tr>\n",
       "      <th>Drama, History</th>\n",
       "      <th>457</th>\n",
       "      <td>John Ford</td>\n",
       "      <td>55000.0</td>\n",
       "      <td>The Grapes of Wrath</td>\n",
       "    </tr>\n",
       "    <tr>\n",
       "      <th>Action, Crime, Comedy</th>\n",
       "      <th>390</th>\n",
       "      <td>Thomas Jahn</td>\n",
       "      <td>3296.0</td>\n",
       "      <td>Knockin' on Heaven's Door</td>\n",
       "    </tr>\n",
       "  </tbody>\n",
       "</table>\n",
       "<p>182 rows × 3 columns</p>\n",
       "</div>"
      ],
      "text/plain": [
       "                                            Director        Gross  \\\n",
       "Genre                                                               \n",
       "Action, Adventure, Sci-Fi    477         J.J. Abrams  936662225.0   \n",
       "Action, Adventure, Drama     59        Anthony Russo  858373000.0   \n",
       "Action, Adventure, Fantasy   623       James Cameron  760507625.0   \n",
       "Drama, Romance               652       James Cameron  659325379.0   \n",
       "Animation, Action, Adventure 891           Brad Bird  608581744.0   \n",
       "...                                              ...          ...   \n",
       "Comedy, Music                530          Rob Reiner     188751.0   \n",
       "Animation, Action, Fantasy   796   Yoshiaki Kawajiri     151086.0   \n",
       "Adventure, Drama, Musical    247  Ashutosh Gowariker      70147.0   \n",
       "Drama, History               457           John Ford      55000.0   \n",
       "Action, Crime, Comedy        390         Thomas Jahn       3296.0   \n",
       "\n",
       "                                                                Series_Title  \n",
       "Genre                                                                         \n",
       "Action, Adventure, Sci-Fi    477  Star Wars: Episode VII - The Force Awakens  \n",
       "Action, Adventure, Drama     59                            Avengers: Endgame  \n",
       "Action, Adventure, Fantasy   623                                      Avatar  \n",
       "Drama, Romance               652                                     Titanic  \n",
       "Animation, Action, Adventure 891                               Incredibles 2  \n",
       "...                                                                      ...  \n",
       "Comedy, Music                530                          This Is Spinal Tap  \n",
       "Animation, Action, Fantasy   796                 Vampire Hunter D: Bloodlust  \n",
       "Adventure, Drama, Musical    247           Lagaan: Once Upon a Time in India  \n",
       "Drama, History               457                         The Grapes of Wrath  \n",
       "Action, Crime, Comedy        390                   Knockin' on Heaven's Door  \n",
       "\n",
       "[182 rows x 3 columns]"
      ]
     },
     "execution_count": 31,
     "metadata": {},
     "output_type": "execute_result"
    }
   ],
   "source": [
    "get_top_directors_by('Gross')"
   ]
  },
  {
   "cell_type": "markdown",
   "id": "a795eca5a80de57a",
   "metadata": {
    "collapsed": false,
    "jupyter": {
     "outputs_hidden": false
    }
   },
   "source": [
    "`J. J. Abrams` is the top director in `Action, Adventure, Sci-Fi` genre with the highest movie gross in the entire dataset with a gross over 936 million dollars! And again, we can't be surprised, I mean it's `Star Wars`."
   ]
  },
  {
   "cell_type": "code",
   "execution_count": null,
   "id": "da469a161ffe204b",
   "metadata": {
    "ExecuteTime": {
     "end_time": "2024-10-12T19:54:14.931452700Z",
     "start_time": "2024-10-12T19:54:14.925725500Z"
    },
    "collapsed": false,
    "jupyter": {
     "outputs_hidden": false
    }
   },
   "outputs": [],
   "source": []
  },
  {
   "cell_type": "code",
   "execution_count": null,
   "id": "7a67b2e2890901d2",
   "metadata": {
    "collapsed": false,
    "jupyter": {
     "outputs_hidden": false
    }
   },
   "outputs": [],
   "source": []
  }
 ],
 "metadata": {
  "kernelspec": {
   "display_name": "Python 3 (ipykernel)",
   "language": "python",
   "name": "python3"
  },
  "language_info": {
   "codemirror_mode": {
    "name": "ipython",
    "version": 3
   },
   "file_extension": ".py",
   "mimetype": "text/x-python",
   "name": "python",
   "nbconvert_exporter": "python",
   "pygments_lexer": "ipython3",
   "version": "3.12.0"
  }
 },
 "nbformat": 4,
 "nbformat_minor": 5
}
