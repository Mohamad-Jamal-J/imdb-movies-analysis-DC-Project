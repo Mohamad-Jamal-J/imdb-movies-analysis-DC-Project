{
 "cells": [
  {
   "cell_type": "markdown",
   "source": [
    "## Lights, Camera, Data! Exploring The IMDb Movie Datasets\n",
    "\n",
    "![IMDb Logo](IMDB.png)\n",
    "\n",
    "Lights, camera, data! Dive into the fascinating world of movies as you embark on a journey to uncover the relationship between IMDb ratings and movie genres. In this project, you'll analyze two datasets—`imdb.csv` and `movies.csv`—to discover intriguing insights about what makes certain genres more popular among audiences.\n",
    "\n",
    "## The Data\n",
    "\n",
    "You have access to two datasets:\n",
    "\n",
    "### **imdb.csv**\n",
    "| Column         | Description                            |\n",
    "|----------------|----------------------------------------|\n",
    "| `id`           | Unique ID of the movie                 |\n",
    "| `Poster_Link`  | Poster Link of Movie                   |\n",
    "| `Certificate`  | Certificate of the Movie               |\n",
    "| `IMDB_Rating`  | IMBD Rating of the Movie               |\n",
    "| `Meta_score`   | Metascore earned by the Movie          |\n",
    "| `Star1`        | First Star Cast                        |\n",
    "| `Star2`        | Second Star Cast                       |\n",
    "| `Star3`        | Third Star Cast                        |\n",
    "| `Star4`        | Fourth Star Cast                       |\n",
    "| `No_of_Votes`  | Number of Votes                        |\n",
    "| `Gross`        | Gross earnings of the Movie            |\n",
    "\n",
    "### **movies.csv**\n",
    "| Column          | Description                           |\n",
    "|-----------------|---------------------------------------|\n",
    "| `id`            | Unique ID of the movie                |\n",
    "| `Series_Title`  | Name of the Movie                     |\n",
    "| `Released_Year` | Released Year of the Movie            |\n",
    "| `Runtime`       | Total Runtime of the Movie            |\n",
    "| `Genre`         | Genre of the Movie                    |\n",
    "| `Overview`      | Overview of the Movie                 |\n",
    "| `Director`      | Name of the Director                  |\n",
    "\n",
    "## The Challenge\n",
    "\n",
    "Your task is to explore the relationship between IMDb ratings and movie genres. By merging the `imdb.csv` and `movies.csv` datasets based on the unique movie IDs, you'll analyze how different genres fare in terms of audience ratings and popularity.\n",
    "\n",
    "## Your Tasks\n",
    "\n",
    "1. Load both CSV files—`imdb.csv` and `movies.csv`—and merge them into a single DataFrame based on the common `id` column.\n",
    "2. Explore the merged dataset to understand its structure and contents.\n",
    "3. Analyze the distribution of IMDb ratings across different movie genres. Which genres tend to have higher ratings?\n",
    "4. Investigate the relationship between movie runtime and IMDb ratings. Do longer movies receive higher ratings, or is there a different trend?\n",
    "5. Identify the top-rated directors in each genre. Who are the filmmakers behind the most highly-rated movies in each genre?\n",
    "6. Visualize your findings using appropriate plots and charts to present your insights effectively.\n",
    "7. Based on your analysis, draw conclusions about the relationship between movie genres and IMDb ratings. Are there any trends or patterns that stand out?\n",
    "\n",
    "**Ready, Set, Analyze!**\n",
    "\n",
    "Now that you have your mission outlined, it's time to roll up your sleeves and dive into the data. As you explore, remember to keep an open mind and let the data guide your insights."
   ],
   "metadata": {
    "collapsed": false
   },
   "id": "bbcba1377d06a6d9"
  },
  {
   "cell_type": "markdown",
   "source": [
    "## Step 0: Importing the Libraries"
   ],
   "metadata": {
    "collapsed": false
   },
   "id": "a493ab5404b80384"
  },
  {
   "cell_type": "code",
   "outputs": [],
   "source": [],
   "metadata": {
    "collapsed": false
   },
   "id": "5fa4026f3d235b8c"
  },
  {
   "cell_type": "markdown",
   "source": [
    "## Step 1: Loading the Data"
   ],
   "metadata": {
    "collapsed": false
   },
   "id": "20af21d6200bebb8"
  },
  {
   "cell_type": "markdown",
   "source": [
    "### Task 1.1: Loading the IMDb Dataset"
   ],
   "metadata": {
    "collapsed": false
   },
   "id": "c6c72edd983bbce6"
  },
  {
   "cell_type": "code",
   "outputs": [],
   "source": [],
   "metadata": {
    "collapsed": false
   },
   "id": "473e361421719d00"
  },
  {
   "cell_type": "markdown",
   "source": [
    "### Task 1.2: Loading the Movies Dataset"
   ],
   "metadata": {
    "collapsed": false
   },
   "id": "e84468ad3cfce863"
  },
  {
   "cell_type": "code",
   "outputs": [],
   "source": [],
   "metadata": {
    "collapsed": false
   },
   "id": "2c0a4caea201b0ff"
  },
  {
   "cell_type": "markdown",
   "source": [
    "### Task 1.3: Merging the Datasets"
   ],
   "metadata": {
    "collapsed": false
   },
   "id": "5500a094d2d5032d"
  },
  {
   "cell_type": "code",
   "outputs": [],
   "source": [],
   "metadata": {
    "collapsed": false
   },
   "id": "bb30411521d7926b"
  },
  {
   "cell_type": "markdown",
   "source": [
    "## Step 2: Exploring the Data"
   ],
   "metadata": {
    "collapsed": false
   },
   "id": "fbffd64f2d3f122"
  },
  {
   "cell_type": "markdown",
   "source": [
    "### Task 2.1: Displaying the First Few Rows of the Data"
   ],
   "metadata": {
    "collapsed": false
   },
   "id": "58cd09a7d17114e1"
  },
  {
   "cell_type": "code",
   "outputs": [],
   "source": [],
   "metadata": {
    "collapsed": false
   },
   "id": "9548ea2593e3b9de"
  },
  {
   "cell_type": "markdown",
   "source": [
    "### Task 2.2: Checking for Missing Values"
   ],
   "metadata": {
    "collapsed": false
   },
   "id": "3fdf9355ca164b1e"
  },
  {
   "cell_type": "code",
   "outputs": [],
   "source": [],
   "metadata": {
    "collapsed": false
   },
   "id": "8ba230d18981c4e3"
  },
  {
   "cell_type": "markdown",
   "source": [
    "### Task 2.3: Checking the Data Types "
   ],
   "metadata": {
    "collapsed": false
   },
   "id": "3a6890216f6d8316"
  },
  {
   "cell_type": "code",
   "outputs": [],
   "source": [],
   "metadata": {
    "collapsed": false
   },
   "id": "72b33b04697174c0"
  },
  {
   "cell_type": "markdown",
   "source": [
    "### Task 2.4: Descriptive Statistics"
   ],
   "metadata": {
    "collapsed": false
   },
   "id": "8b235fde1c6227c0"
  },
  {
   "cell_type": "code",
   "outputs": [],
   "source": [],
   "metadata": {
    "collapsed": false
   },
   "id": "8edf14f575b6f12c"
  },
  {
   "cell_type": "markdown",
   "source": [
    "## Step 3: Analyzing the Distribution of IMDb Ratings by Genre"
   ],
   "metadata": {
    "collapsed": false
   },
   "id": "5face2f4774bcb12"
  },
  {
   "cell_type": "markdown",
   "source": [
    "### Task 3.1: Identifying the Unique Genres"
   ],
   "metadata": {
    "collapsed": false
   },
   "id": "95019dec30958728"
  },
  {
   "cell_type": "code",
   "outputs": [],
   "source": [],
   "metadata": {
    "collapsed": false
   },
   "id": "6fe33aca930499df"
  },
  {
   "cell_type": "markdown",
   "source": [
    "### Task 3.2: Calculating the Average IMDb Rating for Each Genre"
   ],
   "metadata": {
    "collapsed": false
   },
   "id": "c2d771b890d25720"
  },
  {
   "cell_type": "code",
   "outputs": [],
   "source": [],
   "metadata": {
    "collapsed": false
   },
   "id": "e0931d73615327ef"
  },
  {
   "cell_type": "markdown",
   "source": [
    "### Task 3.3: Visualizing the Average IMDb Ratings by Genre"
   ],
   "metadata": {
    "collapsed": false
   },
   "id": "9c17200516cc806"
  },
  {
   "cell_type": "code",
   "outputs": [],
   "source": [],
   "metadata": {
    "collapsed": false
   },
   "id": "5b139150c776ecd"
  },
  {
   "cell_type": "markdown",
   "source": [
    "## Step 4: Investigating the Relationship Between Movie Runtime and IMDb Ratings"
   ],
   "metadata": {
    "collapsed": false
   },
   "id": "331e45e8db0f7c9"
  },
  {
   "cell_type": "markdown",
   "source": [
    "### Task 4.1: Analyzing the Summary Statistics for Movie Runtime"
   ],
   "metadata": {
    "collapsed": false
   },
   "id": "1e9d2ad243ad25ac"
  },
  {
   "cell_type": "code",
   "outputs": [],
   "source": [],
   "metadata": {
    "collapsed": false
   },
   "id": "c4afd5993c2b9a29"
  },
  {
   "cell_type": "markdown",
   "source": [
    "### Task 4.2: Creating a Scatter Plot of Movie Runtime vs. IMDb Rating"
   ],
   "metadata": {
    "collapsed": false
   },
   "id": "a54f53ab4aaee170"
  },
  {
   "cell_type": "code",
   "outputs": [],
   "source": [],
   "metadata": {
    "collapsed": false
   },
   "id": "e090967c31defb36"
  },
  {
   "cell_type": "markdown",
   "source": [
    "## Step 5: Identifying the Top-Rated Directors in Each Genre"
   ],
   "metadata": {
    "collapsed": false
   },
   "id": "d2ce5ee6e5498325"
  },
  {
   "cell_type": "markdown",
   "source": [
    "### Task 5.1: Extracting the Top Director for Each Genre"
   ],
   "metadata": {
    "collapsed": false
   },
   "id": "549c70e5c01572e8"
  },
  {
   "cell_type": "code",
   "outputs": [],
   "source": [],
   "metadata": {
    "collapsed": false
   },
   "id": "4f414049374bc5a9"
  },
  {
   "cell_type": "markdown",
   "source": [
    "### Task 5.2: Counting the Occurrences of Top Directors by Genre"
   ],
   "metadata": {
    "collapsed": false
   },
   "id": "623329ca02d27fe4"
  },
  {
   "cell_type": "code",
   "outputs": [],
   "source": [],
   "metadata": {
    "collapsed": false
   },
   "id": "d9478d09acdc411c"
  },
  {
   "cell_type": "markdown",
   "source": [
    "### Task 5.3: Visualizing the Top Directors by Genre"
   ],
   "metadata": {
    "collapsed": false
   },
   "id": "6f67b5e4bdde3f07"
  },
  {
   "cell_type": "code",
   "outputs": [],
   "source": [],
   "metadata": {
    "collapsed": false
   },
   "id": "8d77c57020ede78f"
  },
  {
   "cell_type": "markdown",
   "source": [
    "## Step 6: Drawing Conclusions"
   ],
   "metadata": {
    "collapsed": false
   },
   "id": "7eb89d3cf794ea18"
  },
  {
   "cell_type": "markdown",
   "source": [],
   "metadata": {
    "collapsed": false
   },
   "id": "fa8e73c121e3fab7"
  },
  {
   "cell_type": "markdown",
   "source": [
    "## Step 7: Exploring Additional Questions"
   ],
   "metadata": {
    "collapsed": false
   },
   "id": "a5c0d9cddc484066"
  },
  {
   "cell_type": "markdown",
   "source": [
    "### Question 1: How does the movie certificate (G, PG, PG-13, R, etc.) impact the IMDb ratings?"
   ],
   "metadata": {
    "collapsed": false
   },
   "id": "6a89b9fed62a31b2"
  },
  {
   "cell_type": "code",
   "outputs": [],
   "source": [],
   "metadata": {
    "collapsed": false
   },
   "id": "446ed721b18be1d3"
  },
  {
   "cell_type": "markdown",
   "source": [
    "### Question 2: What is the relationship between the Metascore and IMDb ratings of movies?"
   ],
   "metadata": {
    "collapsed": false
   },
   "id": "f35deb10bb161180"
  },
  {
   "cell_type": "code",
   "outputs": [],
   "source": [],
   "metadata": {
    "collapsed": false
   },
   "id": "7dbc1bf19be1ba3d"
  },
  {
   "cell_type": "markdown",
   "source": [
    "### Question 3: Are there any trends in the gross earnings of movies across different genres?"
   ],
   "metadata": {
    "collapsed": false
   },
   "id": "3b121d6c0aa76fe5"
  },
  {
   "cell_type": "code",
   "outputs": [],
   "source": [],
   "metadata": {
    "collapsed": false
   },
   "id": "ef40e10a9db6d047"
  }
 ],
 "metadata": {
  "kernelspec": {
   "display_name": "Python 3",
   "language": "python",
   "name": "python3"
  },
  "language_info": {
   "codemirror_mode": {
    "name": "ipython",
    "version": 2
   },
   "file_extension": ".py",
   "mimetype": "text/x-python",
   "name": "python",
   "nbconvert_exporter": "python",
   "pygments_lexer": "ipython2",
   "version": "2.7.6"
  }
 },
 "nbformat": 4,
 "nbformat_minor": 5
}
